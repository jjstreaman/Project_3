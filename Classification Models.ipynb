{
 "cells": [
  {
   "cell_type": "code",
   "execution_count": 1,
   "metadata": {},
   "outputs": [
    {
     "name": "stderr",
     "output_type": "stream",
     "text": [
      "C:\\Users\\sunny\\anaconda3\\envs\\learn-env\\lib\\site-packages\\statsmodels\\tsa\\base\\tsa_model.py:7: FutureWarning: pandas.Int64Index is deprecated and will be removed from pandas in a future version. Use pandas.Index with the appropriate dtype instead.\n",
      "  from pandas import (to_datetime, Int64Index, DatetimeIndex, Period,\n",
      "C:\\Users\\sunny\\anaconda3\\envs\\learn-env\\lib\\site-packages\\statsmodels\\tsa\\base\\tsa_model.py:7: FutureWarning: pandas.Float64Index is deprecated and will be removed from pandas in a future version. Use pandas.Index with the appropriate dtype instead.\n",
      "  from pandas import (to_datetime, Int64Index, DatetimeIndex, Period,\n"
     ]
    }
   ],
   "source": [
    "# imports\n",
    "import itertools\n",
    "import numpy as np\n",
    "import pandas as pd \n",
    "from numbers import Number\n",
    "from scipy import stats\n",
    "import matplotlib.pyplot as plt\n",
    "import matplotlib\n",
    "import seaborn as sns\n",
    "import warnings\n",
    "import statsmodels.api as sm\n",
    "\n",
    "from sklearn.preprocessing import StandardScaler\n",
    "from sklearn.preprocessing import OneHotEncoder\n",
    "from sklearn.linear_model import LogisticRegression\n",
    "from sklearn.tree import DecisionTreeClassifier, plot_tree\n",
    "from sklearn.model_selection import train_test_split, KFold\n",
    "from sklearn.metrics import accuracy_score, recall_score, precision_score, f1_score\n",
    "from sklearn.metrics import plot_confusion_matrix\n",
    "from sklearn.metrics import roc_auc_score, plot_roc_curve\n",
    "from sklearn.metrics import classification_report\n",
    "\n",
    "warnings.filterwarnings('ignore')"
   ]
  },
  {
   "cell_type": "code",
   "execution_count": 2,
   "metadata": {},
   "outputs": [],
   "source": [
    "to_drop=['Interest_rate_spread','rate_of_interest','Upfront_charges'] \n",
    "# dropping columns with due to limitation of data availibility based on EDA "
   ]
  },
  {
   "cell_type": "code",
   "execution_count": 3,
   "metadata": {},
   "outputs": [],
   "source": [
    "df=pd.read_csv('data/cleaned.csv',index_col=0)\n",
    "y=df['Status']\n",
    "df=df.drop(columns=['Status'])\n",
    "features=df.drop(columns=to_drop)\n",
    "numeric=['int64','float64']\n",
    "baseline_num_features=features.select_dtypes(include=numeric)"
   ]
  },
  {
   "cell_type": "code",
   "execution_count": 4,
   "metadata": {},
   "outputs": [
    {
     "data": {
      "text/html": [
       "<div>\n",
       "<style scoped>\n",
       "    .dataframe tbody tr th:only-of-type {\n",
       "        vertical-align: middle;\n",
       "    }\n",
       "\n",
       "    .dataframe tbody tr th {\n",
       "        vertical-align: top;\n",
       "    }\n",
       "\n",
       "    .dataframe thead th {\n",
       "        text-align: right;\n",
       "    }\n",
       "</style>\n",
       "<table border=\"1\" class=\"dataframe\">\n",
       "  <thead>\n",
       "    <tr style=\"text-align: right;\">\n",
       "      <th></th>\n",
       "      <th>loan_amount</th>\n",
       "      <th>term</th>\n",
       "      <th>property_value</th>\n",
       "      <th>income</th>\n",
       "      <th>Credit_Score</th>\n",
       "      <th>LTV</th>\n",
       "      <th>dtir1</th>\n",
       "    </tr>\n",
       "  </thead>\n",
       "  <tbody>\n",
       "    <tr>\n",
       "      <th>0</th>\n",
       "      <td>116500</td>\n",
       "      <td>360.0</td>\n",
       "      <td>118000.0</td>\n",
       "      <td>1740.0</td>\n",
       "      <td>758</td>\n",
       "      <td>98.728814</td>\n",
       "      <td>45.0</td>\n",
       "    </tr>\n",
       "    <tr>\n",
       "      <th>2</th>\n",
       "      <td>406500</td>\n",
       "      <td>360.0</td>\n",
       "      <td>508000.0</td>\n",
       "      <td>9480.0</td>\n",
       "      <td>834</td>\n",
       "      <td>80.019685</td>\n",
       "      <td>46.0</td>\n",
       "    </tr>\n",
       "    <tr>\n",
       "      <th>3</th>\n",
       "      <td>456500</td>\n",
       "      <td>360.0</td>\n",
       "      <td>658000.0</td>\n",
       "      <td>11880.0</td>\n",
       "      <td>587</td>\n",
       "      <td>69.376900</td>\n",
       "      <td>42.0</td>\n",
       "    </tr>\n",
       "    <tr>\n",
       "      <th>4</th>\n",
       "      <td>696500</td>\n",
       "      <td>360.0</td>\n",
       "      <td>758000.0</td>\n",
       "      <td>10440.0</td>\n",
       "      <td>602</td>\n",
       "      <td>91.886544</td>\n",
       "      <td>39.0</td>\n",
       "    </tr>\n",
       "    <tr>\n",
       "      <th>5</th>\n",
       "      <td>706500</td>\n",
       "      <td>360.0</td>\n",
       "      <td>1008000.0</td>\n",
       "      <td>10080.0</td>\n",
       "      <td>864</td>\n",
       "      <td>70.089286</td>\n",
       "      <td>40.0</td>\n",
       "    </tr>\n",
       "    <tr>\n",
       "      <th>...</th>\n",
       "      <td>...</td>\n",
       "      <td>...</td>\n",
       "      <td>...</td>\n",
       "      <td>...</td>\n",
       "      <td>...</td>\n",
       "      <td>...</td>\n",
       "      <td>...</td>\n",
       "    </tr>\n",
       "    <tr>\n",
       "      <th>148665</th>\n",
       "      <td>436500</td>\n",
       "      <td>180.0</td>\n",
       "      <td>608000.0</td>\n",
       "      <td>7860.0</td>\n",
       "      <td>659</td>\n",
       "      <td>71.792763</td>\n",
       "      <td>48.0</td>\n",
       "    </tr>\n",
       "    <tr>\n",
       "      <th>148666</th>\n",
       "      <td>586500</td>\n",
       "      <td>360.0</td>\n",
       "      <td>788000.0</td>\n",
       "      <td>7140.0</td>\n",
       "      <td>569</td>\n",
       "      <td>74.428934</td>\n",
       "      <td>15.0</td>\n",
       "    </tr>\n",
       "    <tr>\n",
       "      <th>148667</th>\n",
       "      <td>446500</td>\n",
       "      <td>180.0</td>\n",
       "      <td>728000.0</td>\n",
       "      <td>6900.0</td>\n",
       "      <td>702</td>\n",
       "      <td>61.332418</td>\n",
       "      <td>49.0</td>\n",
       "    </tr>\n",
       "    <tr>\n",
       "      <th>148668</th>\n",
       "      <td>196500</td>\n",
       "      <td>180.0</td>\n",
       "      <td>278000.0</td>\n",
       "      <td>7140.0</td>\n",
       "      <td>737</td>\n",
       "      <td>70.683453</td>\n",
       "      <td>29.0</td>\n",
       "    </tr>\n",
       "    <tr>\n",
       "      <th>148669</th>\n",
       "      <td>406500</td>\n",
       "      <td>240.0</td>\n",
       "      <td>558000.0</td>\n",
       "      <td>7260.0</td>\n",
       "      <td>830</td>\n",
       "      <td>72.849462</td>\n",
       "      <td>44.0</td>\n",
       "    </tr>\n",
       "  </tbody>\n",
       "</table>\n",
       "<p>120526 rows × 7 columns</p>\n",
       "</div>"
      ],
      "text/plain": [
       "        loan_amount   term  property_value   income  Credit_Score        LTV  \\\n",
       "0            116500  360.0        118000.0   1740.0           758  98.728814   \n",
       "2            406500  360.0        508000.0   9480.0           834  80.019685   \n",
       "3            456500  360.0        658000.0  11880.0           587  69.376900   \n",
       "4            696500  360.0        758000.0  10440.0           602  91.886544   \n",
       "5            706500  360.0       1008000.0  10080.0           864  70.089286   \n",
       "...             ...    ...             ...      ...           ...        ...   \n",
       "148665       436500  180.0        608000.0   7860.0           659  71.792763   \n",
       "148666       586500  360.0        788000.0   7140.0           569  74.428934   \n",
       "148667       446500  180.0        728000.0   6900.0           702  61.332418   \n",
       "148668       196500  180.0        278000.0   7140.0           737  70.683453   \n",
       "148669       406500  240.0        558000.0   7260.0           830  72.849462   \n",
       "\n",
       "        dtir1  \n",
       "0        45.0  \n",
       "2        46.0  \n",
       "3        42.0  \n",
       "4        39.0  \n",
       "5        40.0  \n",
       "...       ...  \n",
       "148665   48.0  \n",
       "148666   15.0  \n",
       "148667   49.0  \n",
       "148668   29.0  \n",
       "148669   44.0  \n",
       "\n",
       "[120526 rows x 7 columns]"
      ]
     },
     "execution_count": 4,
     "metadata": {},
     "output_type": "execute_result"
    }
   ],
   "source": [
    "baseline_num_features"
   ]
  },
  {
   "cell_type": "code",
   "execution_count": 5,
   "metadata": {},
   "outputs": [
    {
     "data": {
      "text/plain": [
       "Index(['loan_limit', 'approv_in_adv', 'loan_type', 'loan_purpose',\n",
       "       'Credit_Worthiness', 'open_credit', 'business_or_commercial',\n",
       "       'loan_amount', 'term', 'Neg_ammortization', 'interest_only',\n",
       "       'lump_sum_payment', 'property_value', 'occupancy_type', 'total_units',\n",
       "       'income', 'Credit_Score', 'age', 'submission_of_application', 'LTV',\n",
       "       'Region', 'dtir1'],\n",
       "      dtype='object')"
      ]
     },
     "execution_count": 5,
     "metadata": {},
     "output_type": "execute_result"
    }
   ],
   "source": [
    "features.columns"
   ]
  },
  {
   "cell_type": "code",
   "execution_count": 6,
   "metadata": {},
   "outputs": [
    {
     "data": {
      "text/html": [
       "<div>\n",
       "<style scoped>\n",
       "    .dataframe tbody tr th:only-of-type {\n",
       "        vertical-align: middle;\n",
       "    }\n",
       "\n",
       "    .dataframe tbody tr th {\n",
       "        vertical-align: top;\n",
       "    }\n",
       "\n",
       "    .dataframe thead th {\n",
       "        text-align: right;\n",
       "    }\n",
       "</style>\n",
       "<table border=\"1\" class=\"dataframe\">\n",
       "  <thead>\n",
       "    <tr style=\"text-align: right;\">\n",
       "      <th></th>\n",
       "      <th>business_or_commercial</th>\n",
       "      <th>Neg_ammortization</th>\n",
       "      <th>lump_sum_payment</th>\n",
       "      <th>interest_only</th>\n",
       "    </tr>\n",
       "  </thead>\n",
       "  <tbody>\n",
       "    <tr>\n",
       "      <th>0</th>\n",
       "      <td>nob/c</td>\n",
       "      <td>not_neg</td>\n",
       "      <td>not_lpsm</td>\n",
       "      <td>not_int</td>\n",
       "    </tr>\n",
       "    <tr>\n",
       "      <th>2</th>\n",
       "      <td>nob/c</td>\n",
       "      <td>neg_amm</td>\n",
       "      <td>not_lpsm</td>\n",
       "      <td>not_int</td>\n",
       "    </tr>\n",
       "    <tr>\n",
       "      <th>3</th>\n",
       "      <td>nob/c</td>\n",
       "      <td>not_neg</td>\n",
       "      <td>not_lpsm</td>\n",
       "      <td>not_int</td>\n",
       "    </tr>\n",
       "    <tr>\n",
       "      <th>4</th>\n",
       "      <td>nob/c</td>\n",
       "      <td>not_neg</td>\n",
       "      <td>not_lpsm</td>\n",
       "      <td>not_int</td>\n",
       "    </tr>\n",
       "    <tr>\n",
       "      <th>5</th>\n",
       "      <td>nob/c</td>\n",
       "      <td>not_neg</td>\n",
       "      <td>not_lpsm</td>\n",
       "      <td>not_int</td>\n",
       "    </tr>\n",
       "    <tr>\n",
       "      <th>...</th>\n",
       "      <td>...</td>\n",
       "      <td>...</td>\n",
       "      <td>...</td>\n",
       "      <td>...</td>\n",
       "    </tr>\n",
       "    <tr>\n",
       "      <th>148665</th>\n",
       "      <td>nob/c</td>\n",
       "      <td>not_neg</td>\n",
       "      <td>not_lpsm</td>\n",
       "      <td>not_int</td>\n",
       "    </tr>\n",
       "    <tr>\n",
       "      <th>148666</th>\n",
       "      <td>nob/c</td>\n",
       "      <td>not_neg</td>\n",
       "      <td>not_lpsm</td>\n",
       "      <td>not_int</td>\n",
       "    </tr>\n",
       "    <tr>\n",
       "      <th>148667</th>\n",
       "      <td>nob/c</td>\n",
       "      <td>not_neg</td>\n",
       "      <td>not_lpsm</td>\n",
       "      <td>not_int</td>\n",
       "    </tr>\n",
       "    <tr>\n",
       "      <th>148668</th>\n",
       "      <td>nob/c</td>\n",
       "      <td>not_neg</td>\n",
       "      <td>not_lpsm</td>\n",
       "      <td>not_int</td>\n",
       "    </tr>\n",
       "    <tr>\n",
       "      <th>148669</th>\n",
       "      <td>nob/c</td>\n",
       "      <td>not_neg</td>\n",
       "      <td>not_lpsm</td>\n",
       "      <td>not_int</td>\n",
       "    </tr>\n",
       "  </tbody>\n",
       "</table>\n",
       "<p>120526 rows × 4 columns</p>\n",
       "</div>"
      ],
      "text/plain": [
       "       business_or_commercial Neg_ammortization lump_sum_payment interest_only\n",
       "0                       nob/c           not_neg         not_lpsm       not_int\n",
       "2                       nob/c           neg_amm         not_lpsm       not_int\n",
       "3                       nob/c           not_neg         not_lpsm       not_int\n",
       "4                       nob/c           not_neg         not_lpsm       not_int\n",
       "5                       nob/c           not_neg         not_lpsm       not_int\n",
       "...                       ...               ...              ...           ...\n",
       "148665                  nob/c           not_neg         not_lpsm       not_int\n",
       "148666                  nob/c           not_neg         not_lpsm       not_int\n",
       "148667                  nob/c           not_neg         not_lpsm       not_int\n",
       "148668                  nob/c           not_neg         not_lpsm       not_int\n",
       "148669                  nob/c           not_neg         not_lpsm       not_int\n",
       "\n",
       "[120526 rows x 4 columns]"
      ]
     },
     "execution_count": 6,
     "metadata": {},
     "output_type": "execute_result"
    }
   ],
   "source": [
    "baseline_cat_features=['business_or_commercial','Neg_ammortization','lump_sum_payment','interest_only']\n",
    "bl_cat_features=features[baseline_cat_features]\n",
    "bl_cat_features"
   ]
  },
  {
   "cell_type": "code",
   "execution_count": 7,
   "metadata": {},
   "outputs": [
    {
     "data": {
      "text/plain": [
       "array([[1., 1., 1., 1.],\n",
       "       [1., 0., 1., 1.],\n",
       "       [1., 1., 1., 1.],\n",
       "       ...,\n",
       "       [1., 1., 1., 1.],\n",
       "       [1., 1., 1., 1.],\n",
       "       [1., 1., 1., 1.]])"
      ]
     },
     "execution_count": 7,
     "metadata": {},
     "output_type": "execute_result"
    }
   ],
   "source": [
    "ohc = OneHotEncoder(drop = 'first',sparse=False)\n",
    "ohc.fit_transform(bl_cat_features)"
   ]
  },
  {
   "cell_type": "code",
   "execution_count": 8,
   "metadata": {},
   "outputs": [
    {
     "data": {
      "text/plain": [
       "array(['x0_nob/c', 'x1_not_neg', 'x2_not_lpsm', 'x3_not_int'],\n",
       "      dtype=object)"
      ]
     },
     "execution_count": 8,
     "metadata": {},
     "output_type": "execute_result"
    }
   ],
   "source": [
    "ohc.get_feature_names()"
   ]
  },
  {
   "cell_type": "code",
   "execution_count": 9,
   "metadata": {},
   "outputs": [
    {
     "data": {
      "text/html": [
       "<div>\n",
       "<style scoped>\n",
       "    .dataframe tbody tr th:only-of-type {\n",
       "        vertical-align: middle;\n",
       "    }\n",
       "\n",
       "    .dataframe tbody tr th {\n",
       "        vertical-align: top;\n",
       "    }\n",
       "\n",
       "    .dataframe thead th {\n",
       "        text-align: right;\n",
       "    }\n",
       "</style>\n",
       "<table border=\"1\" class=\"dataframe\">\n",
       "  <thead>\n",
       "    <tr style=\"text-align: right;\">\n",
       "      <th></th>\n",
       "      <th>x0_nob/c</th>\n",
       "      <th>x1_not_neg</th>\n",
       "      <th>x2_not_lpsm</th>\n",
       "      <th>x3_not_int</th>\n",
       "    </tr>\n",
       "  </thead>\n",
       "  <tbody>\n",
       "    <tr>\n",
       "      <th>0</th>\n",
       "      <td>1.0</td>\n",
       "      <td>1.0</td>\n",
       "      <td>1.0</td>\n",
       "      <td>1.0</td>\n",
       "    </tr>\n",
       "    <tr>\n",
       "      <th>2</th>\n",
       "      <td>1.0</td>\n",
       "      <td>0.0</td>\n",
       "      <td>1.0</td>\n",
       "      <td>1.0</td>\n",
       "    </tr>\n",
       "    <tr>\n",
       "      <th>3</th>\n",
       "      <td>1.0</td>\n",
       "      <td>1.0</td>\n",
       "      <td>1.0</td>\n",
       "      <td>1.0</td>\n",
       "    </tr>\n",
       "    <tr>\n",
       "      <th>4</th>\n",
       "      <td>1.0</td>\n",
       "      <td>1.0</td>\n",
       "      <td>1.0</td>\n",
       "      <td>1.0</td>\n",
       "    </tr>\n",
       "    <tr>\n",
       "      <th>5</th>\n",
       "      <td>1.0</td>\n",
       "      <td>1.0</td>\n",
       "      <td>1.0</td>\n",
       "      <td>1.0</td>\n",
       "    </tr>\n",
       "    <tr>\n",
       "      <th>...</th>\n",
       "      <td>...</td>\n",
       "      <td>...</td>\n",
       "      <td>...</td>\n",
       "      <td>...</td>\n",
       "    </tr>\n",
       "    <tr>\n",
       "      <th>148665</th>\n",
       "      <td>1.0</td>\n",
       "      <td>1.0</td>\n",
       "      <td>1.0</td>\n",
       "      <td>1.0</td>\n",
       "    </tr>\n",
       "    <tr>\n",
       "      <th>148666</th>\n",
       "      <td>1.0</td>\n",
       "      <td>1.0</td>\n",
       "      <td>1.0</td>\n",
       "      <td>1.0</td>\n",
       "    </tr>\n",
       "    <tr>\n",
       "      <th>148667</th>\n",
       "      <td>1.0</td>\n",
       "      <td>1.0</td>\n",
       "      <td>1.0</td>\n",
       "      <td>1.0</td>\n",
       "    </tr>\n",
       "    <tr>\n",
       "      <th>148668</th>\n",
       "      <td>1.0</td>\n",
       "      <td>1.0</td>\n",
       "      <td>1.0</td>\n",
       "      <td>1.0</td>\n",
       "    </tr>\n",
       "    <tr>\n",
       "      <th>148669</th>\n",
       "      <td>1.0</td>\n",
       "      <td>1.0</td>\n",
       "      <td>1.0</td>\n",
       "      <td>1.0</td>\n",
       "    </tr>\n",
       "  </tbody>\n",
       "</table>\n",
       "<p>120526 rows × 4 columns</p>\n",
       "</div>"
      ],
      "text/plain": [
       "        x0_nob/c  x1_not_neg  x2_not_lpsm  x3_not_int\n",
       "0            1.0         1.0          1.0         1.0\n",
       "2            1.0         0.0          1.0         1.0\n",
       "3            1.0         1.0          1.0         1.0\n",
       "4            1.0         1.0          1.0         1.0\n",
       "5            1.0         1.0          1.0         1.0\n",
       "...          ...         ...          ...         ...\n",
       "148665       1.0         1.0          1.0         1.0\n",
       "148666       1.0         1.0          1.0         1.0\n",
       "148667       1.0         1.0          1.0         1.0\n",
       "148668       1.0         1.0          1.0         1.0\n",
       "148669       1.0         1.0          1.0         1.0\n",
       "\n",
       "[120526 rows x 4 columns]"
      ]
     },
     "execution_count": 9,
     "metadata": {},
     "output_type": "execute_result"
    }
   ],
   "source": [
    "bl_ohc_features=pd.DataFrame(ohc.fit_transform(bl_cat_features),columns=ohc.get_feature_names(),index=bl_cat_features.index)\n",
    "bl_ohc_features"
   ]
  },
  {
   "cell_type": "code",
   "execution_count": 10,
   "metadata": {},
   "outputs": [
    {
     "data": {
      "text/html": [
       "<div>\n",
       "<style scoped>\n",
       "    .dataframe tbody tr th:only-of-type {\n",
       "        vertical-align: middle;\n",
       "    }\n",
       "\n",
       "    .dataframe tbody tr th {\n",
       "        vertical-align: top;\n",
       "    }\n",
       "\n",
       "    .dataframe thead th {\n",
       "        text-align: right;\n",
       "    }\n",
       "</style>\n",
       "<table border=\"1\" class=\"dataframe\">\n",
       "  <thead>\n",
       "    <tr style=\"text-align: right;\">\n",
       "      <th></th>\n",
       "      <th>loan_amount</th>\n",
       "      <th>term</th>\n",
       "      <th>property_value</th>\n",
       "      <th>income</th>\n",
       "      <th>Credit_Score</th>\n",
       "      <th>LTV</th>\n",
       "      <th>dtir1</th>\n",
       "      <th>x0_nob/c</th>\n",
       "      <th>x1_not_neg</th>\n",
       "      <th>x2_not_lpsm</th>\n",
       "      <th>x3_not_int</th>\n",
       "    </tr>\n",
       "  </thead>\n",
       "  <tbody>\n",
       "    <tr>\n",
       "      <th>0</th>\n",
       "      <td>116500</td>\n",
       "      <td>360.0</td>\n",
       "      <td>118000.0</td>\n",
       "      <td>1740.0</td>\n",
       "      <td>758</td>\n",
       "      <td>98.728814</td>\n",
       "      <td>45.0</td>\n",
       "      <td>1.0</td>\n",
       "      <td>1.0</td>\n",
       "      <td>1.0</td>\n",
       "      <td>1.0</td>\n",
       "    </tr>\n",
       "    <tr>\n",
       "      <th>2</th>\n",
       "      <td>406500</td>\n",
       "      <td>360.0</td>\n",
       "      <td>508000.0</td>\n",
       "      <td>9480.0</td>\n",
       "      <td>834</td>\n",
       "      <td>80.019685</td>\n",
       "      <td>46.0</td>\n",
       "      <td>1.0</td>\n",
       "      <td>0.0</td>\n",
       "      <td>1.0</td>\n",
       "      <td>1.0</td>\n",
       "    </tr>\n",
       "    <tr>\n",
       "      <th>3</th>\n",
       "      <td>456500</td>\n",
       "      <td>360.0</td>\n",
       "      <td>658000.0</td>\n",
       "      <td>11880.0</td>\n",
       "      <td>587</td>\n",
       "      <td>69.376900</td>\n",
       "      <td>42.0</td>\n",
       "      <td>1.0</td>\n",
       "      <td>1.0</td>\n",
       "      <td>1.0</td>\n",
       "      <td>1.0</td>\n",
       "    </tr>\n",
       "    <tr>\n",
       "      <th>4</th>\n",
       "      <td>696500</td>\n",
       "      <td>360.0</td>\n",
       "      <td>758000.0</td>\n",
       "      <td>10440.0</td>\n",
       "      <td>602</td>\n",
       "      <td>91.886544</td>\n",
       "      <td>39.0</td>\n",
       "      <td>1.0</td>\n",
       "      <td>1.0</td>\n",
       "      <td>1.0</td>\n",
       "      <td>1.0</td>\n",
       "    </tr>\n",
       "    <tr>\n",
       "      <th>5</th>\n",
       "      <td>706500</td>\n",
       "      <td>360.0</td>\n",
       "      <td>1008000.0</td>\n",
       "      <td>10080.0</td>\n",
       "      <td>864</td>\n",
       "      <td>70.089286</td>\n",
       "      <td>40.0</td>\n",
       "      <td>1.0</td>\n",
       "      <td>1.0</td>\n",
       "      <td>1.0</td>\n",
       "      <td>1.0</td>\n",
       "    </tr>\n",
       "    <tr>\n",
       "      <th>...</th>\n",
       "      <td>...</td>\n",
       "      <td>...</td>\n",
       "      <td>...</td>\n",
       "      <td>...</td>\n",
       "      <td>...</td>\n",
       "      <td>...</td>\n",
       "      <td>...</td>\n",
       "      <td>...</td>\n",
       "      <td>...</td>\n",
       "      <td>...</td>\n",
       "      <td>...</td>\n",
       "    </tr>\n",
       "    <tr>\n",
       "      <th>148665</th>\n",
       "      <td>436500</td>\n",
       "      <td>180.0</td>\n",
       "      <td>608000.0</td>\n",
       "      <td>7860.0</td>\n",
       "      <td>659</td>\n",
       "      <td>71.792763</td>\n",
       "      <td>48.0</td>\n",
       "      <td>1.0</td>\n",
       "      <td>1.0</td>\n",
       "      <td>1.0</td>\n",
       "      <td>1.0</td>\n",
       "    </tr>\n",
       "    <tr>\n",
       "      <th>148666</th>\n",
       "      <td>586500</td>\n",
       "      <td>360.0</td>\n",
       "      <td>788000.0</td>\n",
       "      <td>7140.0</td>\n",
       "      <td>569</td>\n",
       "      <td>74.428934</td>\n",
       "      <td>15.0</td>\n",
       "      <td>1.0</td>\n",
       "      <td>1.0</td>\n",
       "      <td>1.0</td>\n",
       "      <td>1.0</td>\n",
       "    </tr>\n",
       "    <tr>\n",
       "      <th>148667</th>\n",
       "      <td>446500</td>\n",
       "      <td>180.0</td>\n",
       "      <td>728000.0</td>\n",
       "      <td>6900.0</td>\n",
       "      <td>702</td>\n",
       "      <td>61.332418</td>\n",
       "      <td>49.0</td>\n",
       "      <td>1.0</td>\n",
       "      <td>1.0</td>\n",
       "      <td>1.0</td>\n",
       "      <td>1.0</td>\n",
       "    </tr>\n",
       "    <tr>\n",
       "      <th>148668</th>\n",
       "      <td>196500</td>\n",
       "      <td>180.0</td>\n",
       "      <td>278000.0</td>\n",
       "      <td>7140.0</td>\n",
       "      <td>737</td>\n",
       "      <td>70.683453</td>\n",
       "      <td>29.0</td>\n",
       "      <td>1.0</td>\n",
       "      <td>1.0</td>\n",
       "      <td>1.0</td>\n",
       "      <td>1.0</td>\n",
       "    </tr>\n",
       "    <tr>\n",
       "      <th>148669</th>\n",
       "      <td>406500</td>\n",
       "      <td>240.0</td>\n",
       "      <td>558000.0</td>\n",
       "      <td>7260.0</td>\n",
       "      <td>830</td>\n",
       "      <td>72.849462</td>\n",
       "      <td>44.0</td>\n",
       "      <td>1.0</td>\n",
       "      <td>1.0</td>\n",
       "      <td>1.0</td>\n",
       "      <td>1.0</td>\n",
       "    </tr>\n",
       "  </tbody>\n",
       "</table>\n",
       "<p>120526 rows × 11 columns</p>\n",
       "</div>"
      ],
      "text/plain": [
       "        loan_amount   term  property_value   income  Credit_Score        LTV  \\\n",
       "0            116500  360.0        118000.0   1740.0           758  98.728814   \n",
       "2            406500  360.0        508000.0   9480.0           834  80.019685   \n",
       "3            456500  360.0        658000.0  11880.0           587  69.376900   \n",
       "4            696500  360.0        758000.0  10440.0           602  91.886544   \n",
       "5            706500  360.0       1008000.0  10080.0           864  70.089286   \n",
       "...             ...    ...             ...      ...           ...        ...   \n",
       "148665       436500  180.0        608000.0   7860.0           659  71.792763   \n",
       "148666       586500  360.0        788000.0   7140.0           569  74.428934   \n",
       "148667       446500  180.0        728000.0   6900.0           702  61.332418   \n",
       "148668       196500  180.0        278000.0   7140.0           737  70.683453   \n",
       "148669       406500  240.0        558000.0   7260.0           830  72.849462   \n",
       "\n",
       "        dtir1  x0_nob/c  x1_not_neg  x2_not_lpsm  x3_not_int  \n",
       "0        45.0       1.0         1.0          1.0         1.0  \n",
       "2        46.0       1.0         0.0          1.0         1.0  \n",
       "3        42.0       1.0         1.0          1.0         1.0  \n",
       "4        39.0       1.0         1.0          1.0         1.0  \n",
       "5        40.0       1.0         1.0          1.0         1.0  \n",
       "...       ...       ...         ...          ...         ...  \n",
       "148665   48.0       1.0         1.0          1.0         1.0  \n",
       "148666   15.0       1.0         1.0          1.0         1.0  \n",
       "148667   49.0       1.0         1.0          1.0         1.0  \n",
       "148668   29.0       1.0         1.0          1.0         1.0  \n",
       "148669   44.0       1.0         1.0          1.0         1.0  \n",
       "\n",
       "[120526 rows x 11 columns]"
      ]
     },
     "execution_count": 10,
     "metadata": {},
     "output_type": "execute_result"
    }
   ],
   "source": [
    "X=pd.concat([baseline_num_features,bl_ohc_features],axis=1)\n",
    "X"
   ]
  },
  {
   "cell_type": "code",
   "execution_count": 11,
   "metadata": {},
   "outputs": [
    {
     "data": {
      "text/plain": [
       "((84368, 11), (36158, 11))"
      ]
     },
     "execution_count": 11,
     "metadata": {},
     "output_type": "execute_result"
    }
   ],
   "source": [
    "X_train, X_test, y_train, y_test = train_test_split(X, y, test_size=0.3, random_state=42,stratify=y)\n",
    "X_train.shape, X_test.shape"
   ]
  },
  {
   "cell_type": "code",
   "execution_count": 12,
   "metadata": {},
   "outputs": [],
   "source": [
    "num_features_list=['loan_amount','term','property_value','income','Credit_Score','LTV','dtir1']\n",
    "cat_features_list=['x0_nob/c','x1_not_neg','x2_not_lpsm','x3_not_int']\n",
    "X_train_num=X_train[num_features_list]\n",
    "X_test_num=X_test[num_features_list]\n",
    "sc=StandardScaler()\n",
    "X_train_num_sc=sc.fit_transform(X_train_num)\n",
    "X_test_num_sc=sc.transform(X_test_num)"
   ]
  },
  {
   "cell_type": "code",
   "execution_count": 13,
   "metadata": {},
   "outputs": [
    {
     "data": {
      "text/plain": [
       "array([[ 0.80505868,  0.4396436 ,  0.55248121, ..., -0.59260334,\n",
       "        -0.2238071 ,  0.68751841],\n",
       "       [ 0.53184194,  0.4396436 , -0.06864887, ...,  1.5278651 ,\n",
       "         0.93811458,  0.68751841],\n",
       "       [ 1.18756213,  0.4396436 ,  0.55248121, ...,  0.84690166,\n",
       "         0.30018912, -0.16567932],\n",
       "       ...,\n",
       "       [-1.21674523, -2.56029314,  1.038583  , ..., -1.36838447,\n",
       "        -3.15510064, -2.25127377],\n",
       "       [ 0.80505868,  0.4396436 ,  0.79553211, ...,  0.06250073,\n",
       "        -0.62609099, -1.58767554],\n",
       "       [-0.83424179,  0.4396436 , -0.55475067, ...,  1.51062552,\n",
       "        -0.6517206 , -3.1044715 ]])"
      ]
     },
     "execution_count": 13,
     "metadata": {},
     "output_type": "execute_result"
    }
   ],
   "source": [
    "X_train_num_sc"
   ]
  },
  {
   "cell_type": "code",
   "execution_count": 14,
   "metadata": {},
   "outputs": [],
   "source": [
    "X_train_num_sc=pd.DataFrame(X_train_num_sc,columns=X_train_num.columns,index=X_train_num.index)\n",
    "X_train_sc=pd.concat([X_train_num_sc,X_train[cat_features_list]],axis=1)\n",
    "X_test_num_sc=pd.DataFrame(X_test_num_sc,columns=X_test_num.columns,index=X_test_num.index)\n",
    "X_test_sc=pd.concat([X_test_num_sc,X_test[cat_features_list]],axis=1)"
   ]
  },
  {
   "cell_type": "code",
   "execution_count": 15,
   "metadata": {},
   "outputs": [
    {
     "data": {
      "text/html": [
       "<div>\n",
       "<style scoped>\n",
       "    .dataframe tbody tr th:only-of-type {\n",
       "        vertical-align: middle;\n",
       "    }\n",
       "\n",
       "    .dataframe tbody tr th {\n",
       "        vertical-align: top;\n",
       "    }\n",
       "\n",
       "    .dataframe thead th {\n",
       "        text-align: right;\n",
       "    }\n",
       "</style>\n",
       "<table border=\"1\" class=\"dataframe\">\n",
       "  <thead>\n",
       "    <tr style=\"text-align: right;\">\n",
       "      <th></th>\n",
       "      <th>loan_amount</th>\n",
       "      <th>term</th>\n",
       "      <th>property_value</th>\n",
       "      <th>income</th>\n",
       "      <th>Credit_Score</th>\n",
       "      <th>LTV</th>\n",
       "      <th>dtir1</th>\n",
       "      <th>x0_nob/c</th>\n",
       "      <th>x1_not_neg</th>\n",
       "      <th>x2_not_lpsm</th>\n",
       "      <th>x3_not_int</th>\n",
       "    </tr>\n",
       "  </thead>\n",
       "  <tbody>\n",
       "    <tr>\n",
       "      <th>67115</th>\n",
       "      <td>-0.451738</td>\n",
       "      <td>0.439644</td>\n",
       "      <td>0.012368</td>\n",
       "      <td>-0.145605</td>\n",
       "      <td>1.269271</td>\n",
       "      <td>-1.219046</td>\n",
       "      <td>-1.872075</td>\n",
       "      <td>1.0</td>\n",
       "      <td>1.0</td>\n",
       "      <td>1.0</td>\n",
       "      <td>1.0</td>\n",
       "    </tr>\n",
       "    <tr>\n",
       "      <th>75261</th>\n",
       "      <td>-0.888885</td>\n",
       "      <td>0.439644</td>\n",
       "      <td>-0.878819</td>\n",
       "      <td>-0.587999</td>\n",
       "      <td>1.717500</td>\n",
       "      <td>1.166717</td>\n",
       "      <td>-0.070880</td>\n",
       "      <td>1.0</td>\n",
       "      <td>0.0</td>\n",
       "      <td>1.0</td>\n",
       "      <td>1.0</td>\n",
       "    </tr>\n",
       "    <tr>\n",
       "      <th>60397</th>\n",
       "      <td>-0.561025</td>\n",
       "      <td>-0.160344</td>\n",
       "      <td>-0.527745</td>\n",
       "      <td>-0.537727</td>\n",
       "      <td>1.148594</td>\n",
       "      <td>0.106729</td>\n",
       "      <td>0.592719</td>\n",
       "      <td>1.0</td>\n",
       "      <td>0.0</td>\n",
       "      <td>1.0</td>\n",
       "      <td>1.0</td>\n",
       "    </tr>\n",
       "    <tr>\n",
       "      <th>24636</th>\n",
       "      <td>-0.888885</td>\n",
       "      <td>0.439644</td>\n",
       "      <td>-0.770796</td>\n",
       "      <td>0.588369</td>\n",
       "      <td>-0.713280</td>\n",
       "      <td>0.257095</td>\n",
       "      <td>-0.070880</td>\n",
       "      <td>1.0</td>\n",
       "      <td>1.0</td>\n",
       "      <td>1.0</td>\n",
       "      <td>1.0</td>\n",
       "    </tr>\n",
       "    <tr>\n",
       "      <th>143126</th>\n",
       "      <td>-1.489962</td>\n",
       "      <td>0.439644</td>\n",
       "      <td>-1.148875</td>\n",
       "      <td>-0.678489</td>\n",
       "      <td>0.648646</td>\n",
       "      <td>0.048268</td>\n",
       "      <td>-0.165679</td>\n",
       "      <td>1.0</td>\n",
       "      <td>1.0</td>\n",
       "      <td>1.0</td>\n",
       "      <td>1.0</td>\n",
       "    </tr>\n",
       "    <tr>\n",
       "      <th>...</th>\n",
       "      <td>...</td>\n",
       "      <td>...</td>\n",
       "      <td>...</td>\n",
       "      <td>...</td>\n",
       "      <td>...</td>\n",
       "      <td>...</td>\n",
       "      <td>...</td>\n",
       "      <td>...</td>\n",
       "      <td>...</td>\n",
       "      <td>...</td>\n",
       "      <td>...</td>\n",
       "    </tr>\n",
       "    <tr>\n",
       "      <th>10600</th>\n",
       "      <td>-0.451738</td>\n",
       "      <td>0.439644</td>\n",
       "      <td>-0.635768</td>\n",
       "      <td>-0.014897</td>\n",
       "      <td>-0.239192</td>\n",
       "      <td>1.083949</td>\n",
       "      <td>2.014715</td>\n",
       "      <td>0.0</td>\n",
       "      <td>1.0</td>\n",
       "      <td>1.0</td>\n",
       "      <td>1.0</td>\n",
       "    </tr>\n",
       "    <tr>\n",
       "      <th>63493</th>\n",
       "      <td>0.750415</td>\n",
       "      <td>0.439644</td>\n",
       "      <td>0.444459</td>\n",
       "      <td>0.337008</td>\n",
       "      <td>-1.377004</td>\n",
       "      <td>-0.089558</td>\n",
       "      <td>0.213520</td>\n",
       "      <td>1.0</td>\n",
       "      <td>0.0</td>\n",
       "      <td>1.0</td>\n",
       "      <td>1.0</td>\n",
       "    </tr>\n",
       "    <tr>\n",
       "      <th>116294</th>\n",
       "      <td>-0.397095</td>\n",
       "      <td>0.439644</td>\n",
       "      <td>-0.176671</td>\n",
       "      <td>-0.537727</td>\n",
       "      <td>-0.790859</td>\n",
       "      <td>-0.687046</td>\n",
       "      <td>0.592719</td>\n",
       "      <td>1.0</td>\n",
       "      <td>1.0</td>\n",
       "      <td>1.0</td>\n",
       "      <td>0.0</td>\n",
       "    </tr>\n",
       "    <tr>\n",
       "      <th>103494</th>\n",
       "      <td>-0.342452</td>\n",
       "      <td>0.439644</td>\n",
       "      <td>-0.608762</td>\n",
       "      <td>-0.648326</td>\n",
       "      <td>-1.532160</td>\n",
       "      <td>1.289885</td>\n",
       "      <td>0.877118</td>\n",
       "      <td>0.0</td>\n",
       "      <td>1.0</td>\n",
       "      <td>1.0</td>\n",
       "      <td>1.0</td>\n",
       "    </tr>\n",
       "    <tr>\n",
       "      <th>28249</th>\n",
       "      <td>-0.506382</td>\n",
       "      <td>0.439644</td>\n",
       "      <td>-0.527745</td>\n",
       "      <td>-0.316530</td>\n",
       "      <td>-1.213228</td>\n",
       "      <td>0.278802</td>\n",
       "      <td>-1.208477</td>\n",
       "      <td>1.0</td>\n",
       "      <td>1.0</td>\n",
       "      <td>1.0</td>\n",
       "      <td>1.0</td>\n",
       "    </tr>\n",
       "  </tbody>\n",
       "</table>\n",
       "<p>36158 rows × 11 columns</p>\n",
       "</div>"
      ],
      "text/plain": [
       "        loan_amount      term  property_value    income  Credit_Score  \\\n",
       "67115     -0.451738  0.439644        0.012368 -0.145605      1.269271   \n",
       "75261     -0.888885  0.439644       -0.878819 -0.587999      1.717500   \n",
       "60397     -0.561025 -0.160344       -0.527745 -0.537727      1.148594   \n",
       "24636     -0.888885  0.439644       -0.770796  0.588369     -0.713280   \n",
       "143126    -1.489962  0.439644       -1.148875 -0.678489      0.648646   \n",
       "...             ...       ...             ...       ...           ...   \n",
       "10600     -0.451738  0.439644       -0.635768 -0.014897     -0.239192   \n",
       "63493      0.750415  0.439644        0.444459  0.337008     -1.377004   \n",
       "116294    -0.397095  0.439644       -0.176671 -0.537727     -0.790859   \n",
       "103494    -0.342452  0.439644       -0.608762 -0.648326     -1.532160   \n",
       "28249     -0.506382  0.439644       -0.527745 -0.316530     -1.213228   \n",
       "\n",
       "             LTV     dtir1  x0_nob/c  x1_not_neg  x2_not_lpsm  x3_not_int  \n",
       "67115  -1.219046 -1.872075       1.0         1.0          1.0         1.0  \n",
       "75261   1.166717 -0.070880       1.0         0.0          1.0         1.0  \n",
       "60397   0.106729  0.592719       1.0         0.0          1.0         1.0  \n",
       "24636   0.257095 -0.070880       1.0         1.0          1.0         1.0  \n",
       "143126  0.048268 -0.165679       1.0         1.0          1.0         1.0  \n",
       "...          ...       ...       ...         ...          ...         ...  \n",
       "10600   1.083949  2.014715       0.0         1.0          1.0         1.0  \n",
       "63493  -0.089558  0.213520       1.0         0.0          1.0         1.0  \n",
       "116294 -0.687046  0.592719       1.0         1.0          1.0         0.0  \n",
       "103494  1.289885  0.877118       0.0         1.0          1.0         1.0  \n",
       "28249   0.278802 -1.208477       1.0         1.0          1.0         1.0  \n",
       "\n",
       "[36158 rows x 11 columns]"
      ]
     },
     "execution_count": 15,
     "metadata": {},
     "output_type": "execute_result"
    }
   ],
   "source": [
    "X_test_sc"
   ]
  },
  {
   "cell_type": "markdown",
   "metadata": {},
   "source": [
    "# Baseline model - Logistic Regression with basic set of features: \n",
    "Loan Amount, Term, Income, Property Value, Credit Score, LRV, DTIR, Business/Commercial, Negative amortization, Lump-sum payment, Interest-only"
   ]
  },
  {
   "cell_type": "code",
   "execution_count": 16,
   "metadata": {},
   "outputs": [],
   "source": [
    "lr=LogisticRegression(random_state=42)"
   ]
  },
  {
   "cell_type": "code",
   "execution_count": 17,
   "metadata": {},
   "outputs": [],
   "source": [
    "lr.fit(X_train_sc,y_train)\n",
    "y_train_pred=lr.predict(X_train_sc)"
   ]
  },
  {
   "cell_type": "code",
   "execution_count": 18,
   "metadata": {},
   "outputs": [
    {
     "data": {
      "image/png": "[encoded data removed]",
      "text/plain": [
       "<Figure size 432x288 with 2 Axes>"
      ]
     },
     "metadata": {
      "needs_background": "light"
     },
     "output_type": "display_data"
    },
    {
     "name": "stdout",
     "output_type": "stream",
     "text": [
      "              precision    recall  f1-score   support\n",
      "\n",
      "           0       0.85      0.99      0.91     70615\n",
      "           1       0.63      0.08      0.15     13753\n",
      "\n",
      "    accuracy                           0.84     84368\n",
      "   macro avg       0.74      0.54      0.53     84368\n",
      "weighted avg       0.81      0.84      0.79     84368\n",
      "\n"
     ]
    }
   ],
   "source": [
    "plot_confusion_matrix(lr,X_train_sc,y_train)\n",
    "plt.title('Baseline Logistic Regresion Train Set Classification Metircs')\n",
    "plt.show()\n",
    "print(classification_report(y_train,lr.predict(X_train_sc)))"
   ]
  },
  {
   "cell_type": "code",
   "execution_count": 19,
   "metadata": {},
   "outputs": [
    {
     "data": {
      "image/png": "[encoded data removed]",
      "text/plain": [
       "<Figure size 432x288 with 2 Axes>"
      ]
     },
     "metadata": {
      "needs_background": "light"
     },
     "output_type": "display_data"
    },
    {
     "name": "stdout",
     "output_type": "stream",
     "text": [
      "              precision    recall  f1-score   support\n",
      "\n",
      "           0       0.85      0.99      0.91     30264\n",
      "           1       0.66      0.09      0.16      5894\n",
      "\n",
      "    accuracy                           0.84     36158\n",
      "   macro avg       0.75      0.54      0.54     36158\n",
      "weighted avg       0.82      0.84      0.79     36158\n",
      "\n"
     ]
    }
   ],
   "source": [
    "plot_confusion_matrix(lr,X_test_sc,y_test)\n",
    "plt.title('Baseline Logistic Regresion Test Set Classification Metircs')\n",
    "plt.show()\n",
    "print(classification_report(y_test,lr.predict(X_test_sc)))"
   ]
  },
  {
   "cell_type": "markdown",
   "metadata": {},
   "source": [
    "Scrores demonstrates class imbalance issues, tuning model with balanced class weights"
   ]
  },
  {
   "cell_type": "markdown",
   "metadata": {},
   "source": [
    "## LR1 - balanced class weights"
   ]
  },
  {
   "cell_type": "code",
   "execution_count": 20,
   "metadata": {},
   "outputs": [],
   "source": [
    "lr1=LogisticRegression(C=1,random_state=42,class_weight='balanced')\n",
    "lr1.fit(X_train_sc,y_train)\n",
    "y_train_pred=lr1.predict(X_train_sc)\n",
    "y_test_pred=lr1.predict(X_test_sc)"
   ]
  },
  {
   "cell_type": "code",
   "execution_count": 21,
   "metadata": {},
   "outputs": [
    {
     "data": {
      "image/png": "[encoded data removed]",
      "text/plain": [
       "<Figure size 432x288 with 2 Axes>"
      ]
     },
     "metadata": {
      "needs_background": "light"
     },
     "output_type": "display_data"
    },
    {
     "name": "stdout",
     "output_type": "stream",
     "text": [
      "              precision    recall  f1-score   support\n",
      "\n",
      "           0       0.89      0.77      0.82     70615\n",
      "           1       0.30      0.50      0.37     13753\n",
      "\n",
      "    accuracy                           0.73     84368\n",
      "   macro avg       0.59      0.64      0.60     84368\n",
      "weighted avg       0.79      0.73      0.75     84368\n",
      "\n"
     ]
    }
   ],
   "source": [
    "plot_confusion_matrix(lr1,X_train_sc,y_train)\n",
    "plt.title('LR1 balanced class weights Train Set Classification Metircs')\n",
    "plt.show()\n",
    "print(classification_report(y_train,lr1.predict(X_train_sc)))"
   ]
  },
  {
   "cell_type": "code",
   "execution_count": 22,
   "metadata": {},
   "outputs": [
    {
     "data": {
      "image/png": "[encoded data removed]",
      "text/plain": [
       "<Figure size 432x288 with 2 Axes>"
      ]
     },
     "metadata": {
      "needs_background": "light"
     },
     "output_type": "display_data"
    },
    {
     "name": "stdout",
     "output_type": "stream",
     "text": [
      "              precision    recall  f1-score   support\n",
      "\n",
      "           0       0.89      0.77      0.83     30264\n",
      "           1       0.30      0.50      0.38      5894\n",
      "\n",
      "    accuracy                           0.73     36158\n",
      "   macro avg       0.60      0.64      0.60     36158\n",
      "weighted avg       0.79      0.73      0.75     36158\n",
      "\n"
     ]
    }
   ],
   "source": [
    "plot_confusion_matrix(lr1,X_test_sc,y_test)\n",
    "plt.title('LR1 balanced class weights Test Set Classification Metircs')\n",
    "plt.show()\n",
    "print(classification_report(y_test,lr1.predict(X_test_sc)))"
   ]
  },
  {
   "cell_type": "code",
   "execution_count": 23,
   "metadata": {},
   "outputs": [
    {
     "data": {
      "text/plain": [
       "<sklearn.metrics._plot.roc_curve.RocCurveDisplay at 0x228f9a3fdc0>"
      ]
     },
     "execution_count": 23,
     "metadata": {},
     "output_type": "execute_result"
    },
    {
     "data": {
      "image/png": "[encoded data removed]",
      "text/plain": [
       "<Figure size 432x288 with 1 Axes>"
      ]
     },
     "metadata": {
      "needs_background": "light"
     },
     "output_type": "display_data"
    }
   ],
   "source": [
    "f, ax=plt.subplots()\n",
    "plot_roc_curve(lr,X_test_sc,y_test,ax=ax)\n",
    "plot_roc_curve(lr1,X_test_sc,y_test,ax=ax)"
   ]
  },
  {
   "cell_type": "markdown",
   "metadata": {},
   "source": [
    "## LR2 - Using SMOTE Strategy"
   ]
  },
  {
   "cell_type": "code",
   "execution_count": 24,
   "metadata": {},
   "outputs": [
    {
     "name": "stdout",
     "output_type": "stream",
     "text": [
      "0    0.83699\n",
      "1    0.16301\n",
      "Name: Status, dtype: float64\n",
      "current ratio: 0.19475807650749907\n"
     ]
    }
   ],
   "source": [
    "print(y.value_counts(normalize=True))\n",
    "print(f'current ratio: {y.value_counts()[1]/y.value_counts()[0]}')"
   ]
  },
  {
   "cell_type": "code",
   "execution_count": 25,
   "metadata": {},
   "outputs": [],
   "source": [
    "from imblearn.over_sampling import SMOTE\n",
    "smote=SMOTE(sampling_strategy=1)\n",
    "X_train_resam,y_train_resam=smote.fit_resample(X_train_sc,y_train)"
   ]
  },
  {
   "cell_type": "code",
   "execution_count": 26,
   "metadata": {},
   "outputs": [
    {
     "data": {
      "text/plain": [
       "0    0.836988\n",
       "1    0.163012\n",
       "Name: Status, dtype: float64"
      ]
     },
     "execution_count": 26,
     "metadata": {},
     "output_type": "execute_result"
    }
   ],
   "source": [
    "y_train.value_counts(normalize=True)"
   ]
  },
  {
   "cell_type": "code",
   "execution_count": 27,
   "metadata": {},
   "outputs": [
    {
     "data": {
      "text/plain": [
       "0    0.5\n",
       "1    0.5\n",
       "Name: Status, dtype: float64"
      ]
     },
     "execution_count": 27,
     "metadata": {},
     "output_type": "execute_result"
    }
   ],
   "source": [
    "y_train_resam.value_counts(normalize=True)"
   ]
  },
  {
   "cell_type": "code",
   "execution_count": 28,
   "metadata": {},
   "outputs": [
    {
     "data": {
      "image/png": "[encoded data removed]",
      "text/plain": [
       "<Figure size 432x288 with 2 Axes>"
      ]
     },
     "metadata": {
      "needs_background": "light"
     },
     "output_type": "display_data"
    },
    {
     "name": "stdout",
     "output_type": "stream",
     "text": [
      "              precision    recall  f1-score   support\n",
      "\n",
      "           0       0.61      0.76      0.68     70615\n",
      "           1       0.68      0.50      0.58     70615\n",
      "\n",
      "    accuracy                           0.63    141230\n",
      "   macro avg       0.64      0.63      0.63    141230\n",
      "weighted avg       0.64      0.63      0.63    141230\n",
      "\n"
     ]
    }
   ],
   "source": [
    "lr2=LogisticRegression(C=1,random_state=42)\n",
    "lr2.fit(X_train_resam,y_train_resam)\n",
    "plot_confusion_matrix(lr2,X_train_resam,y_train_resam)\n",
    "plt.title('LR2 SMOTE=1 Train Set Classification Metircs')\n",
    "plt.show()\n",
    "print(classification_report(y_train_resam,lr2.predict(X_train_resam)))"
   ]
  },
  {
   "cell_type": "code",
   "execution_count": 29,
   "metadata": {},
   "outputs": [
    {
     "data": {
      "image/png": "[encoded data removed]",
      "text/plain": [
       "<Figure size 432x288 with 2 Axes>"
      ]
     },
     "metadata": {
      "needs_background": "light"
     },
     "output_type": "display_data"
    },
    {
     "name": "stdout",
     "output_type": "stream",
     "text": [
      "              precision    recall  f1-score   support\n",
      "\n",
      "           0       0.89      0.77      0.82     30264\n",
      "           1       0.30      0.51      0.38      5894\n",
      "\n",
      "    accuracy                           0.73     36158\n",
      "   macro avg       0.59      0.64      0.60     36158\n",
      "weighted avg       0.79      0.73      0.75     36158\n",
      "\n"
     ]
    }
   ],
   "source": [
    "plot_confusion_matrix(lr2,X_test_sc,y_test)\n",
    "plt.title('LR2 SMOTE=1 Test Set Classification Metircs')\n",
    "plt.show()\n",
    "print(classification_report(y_test,lr2.predict(X_test_sc)))"
   ]
  },
  {
   "cell_type": "code",
   "execution_count": 30,
   "metadata": {},
   "outputs": [
    {
     "data": {
      "image/png": "[encoded data removed]",
      "text/plain": [
       "<Figure size 432x288 with 2 Axes>"
      ]
     },
     "metadata": {
      "needs_background": "light"
     },
     "output_type": "display_data"
    },
    {
     "name": "stdout",
     "output_type": "stream",
     "text": [
      "              precision    recall  f1-score   support\n",
      "\n",
      "           0       0.61      0.76      0.68     70615\n",
      "           1       0.68      0.50      0.58     70615\n",
      "\n",
      "    accuracy                           0.63    141230\n",
      "   macro avg       0.64      0.63      0.63    141230\n",
      "weighted avg       0.64      0.63      0.63    141230\n",
      "\n"
     ]
    }
   ],
   "source": [
    "lr2_1=LogisticRegression(C=1,random_state=42,class_weight='balanced')\n",
    "lr2_1.fit(X_train_resam,y_train_resam)\n",
    "plot_confusion_matrix(lr2_1,X_train_resam,y_train_resam)\n",
    "plt.title('LR2_1 SMOTE=1 balanced class Train Set Classification Metircs')\n",
    "plt.show()\n",
    "print(classification_report(y_train_resam,lr2_1.predict(X_train_resam)))"
   ]
  },
  {
   "cell_type": "code",
   "execution_count": 31,
   "metadata": {},
   "outputs": [
    {
     "data": {
      "image/png": "[encoded data removed]",
      "text/plain": [
       "<Figure size 432x288 with 2 Axes>"
      ]
     },
     "metadata": {
      "needs_background": "light"
     },
     "output_type": "display_data"
    },
    {
     "name": "stdout",
     "output_type": "stream",
     "text": [
      "              precision    recall  f1-score   support\n",
      "\n",
      "           0       0.89      0.77      0.82     30264\n",
      "           1       0.30      0.51      0.38      5894\n",
      "\n",
      "    accuracy                           0.73     36158\n",
      "   macro avg       0.59      0.64      0.60     36158\n",
      "weighted avg       0.79      0.73      0.75     36158\n",
      "\n"
     ]
    }
   ],
   "source": [
    "plot_confusion_matrix(lr2_1,X_test_sc,y_test)\n",
    "plt.title('LR2_1 SMOTE=1 balanced class Test Set Classification Metircs')\n",
    "plt.show()\n",
    "print(classification_report(y_test,lr2_1.predict(X_test_sc)))"
   ]
  },
  {
   "cell_type": "code",
   "execution_count": 32,
   "metadata": {},
   "outputs": [
    {
     "data": {
      "text/plain": [
       "<sklearn.metrics._plot.roc_curve.RocCurveDisplay at 0x228fa5d7ee0>"
      ]
     },
     "execution_count": 32,
     "metadata": {},
     "output_type": "execute_result"
    },
    {
     "data": {
      "image/png": "[encoded data removed]",
      "text/plain": [
       "<Figure size 432x288 with 1 Axes>"
      ]
     },
     "metadata": {
      "needs_background": "light"
     },
     "output_type": "display_data"
    }
   ],
   "source": [
    "f, ax=plt.subplots()\n",
    "plot_roc_curve(lr,X_test_sc,y_test,ax=ax,label=f\"baseline AUC {roc_auc_score(y_test,lr.predict_proba(X_test_sc)[:,1]):.2f}\")\n",
    "plot_roc_curve(lr1,X_test_sc,y_test,ax=ax,label=f\"lr1 AUC {roc_auc_score(y_test,lr1.predict_proba(X_test_sc)[:,1]):.2f}\")\n",
    "plot_roc_curve(lr2,X_test_sc,y_test,ax=ax,label=f\"lr2 AUC {roc_auc_score(y_test,lr2.predict_proba(X_test_sc)[:,1]):.2f}\")\n",
    "plot_roc_curve(lr2_1,X_test_sc,y_test,ax=ax,label=f\"lr2_1 AUC {roc_auc_score(y_test,lr2_1.predict_proba(X_test_sc)[:,1]):.2f}\")"
   ]
  },
  {
   "cell_type": "code",
   "execution_count": 33,
   "metadata": {
    "scrolled": true
   },
   "outputs": [
    {
     "name": "stdout",
     "output_type": "stream",
     "text": [
      "ratio 0.20 recall score 0.09 accuray score 0.84  f1 score 0.16\n",
      "ratio 0.30 recall score 0.12 accuray score 0.84  f1 score 0.20\n",
      "ratio 0.40 recall score 0.17 accuray score 0.84  f1 score 0.26\n",
      "ratio 0.50 recall score 0.24 accuray score 0.82  f1 score 0.31\n",
      "ratio 0.60 recall score 0.32 accuray score 0.80  f1 score 0.34\n",
      "ratio 0.70 recall score 0.37 accuray score 0.78  f1 score 0.35\n",
      "ratio 0.80 recall score 0.41 accuray score 0.76  f1 score 0.36\n",
      "ratio 0.90 recall score 0.46 accuray score 0.75  f1 score 0.37\n",
      "ratio 1.00 recall score 0.51 accuray score 0.73  f1 score 0.38\n"
     ]
    },
    {
     "data": {
      "image/png": "[encoded data removed]",
      "text/plain": [
       "<Figure size 1440x576 with 1 Axes>"
      ]
     },
     "metadata": {
      "needs_background": "light"
     },
     "output_type": "display_data"
    }
   ],
   "source": [
    "#trying out different SMOTE strategy for LR2, best recall score is equal sampling\n",
    "f, ax=plt.subplots(figsize=(20,8))\n",
    "for ratio in np.linspace(0.2,1,9):\n",
    "    smote=SMOTE(sampling_strategy=ratio)\n",
    "    X_train_resam,y_train_resam=smote.fit_resample(X_train_sc,y_train)\n",
    "    lr2_2=LogisticRegression(C=1,random_state=42)\n",
    "    lr2_2.fit(X_train_resam,y_train_resam)\n",
    "    plot_roc_curve(lr2_2,X_test_sc,y_test,ax=ax,label=f\"ratio {ratio:.2f} AUC {roc_auc_score(y_test,lr2_2.predict_proba(X_test_sc)[:,1]):.2f}\")\n",
    "    print(f\"ratio {ratio:.2f} recall score {recall_score(y_test,lr2_2.predict(X_test_sc)):.2f} accuray score {accuracy_score(y_test,lr2_2.predict(X_test_sc)):.2f}  f1 score {f1_score(y_test,lr2_2.predict(X_test_sc)):.2f}\")"
   ]
  },
  {
   "cell_type": "markdown",
   "metadata": {},
   "source": [
    "## LR3 SMOTE and More Catagorical Features"
   ]
  },
  {
   "cell_type": "code",
   "execution_count": 34,
   "metadata": {},
   "outputs": [],
   "source": [
    "add_cat_features=['loan_limit','approv_in_adv','loan_type','loan_purpose','Credit_Worthiness','open_credit','occupancy_type','total_units','age','Region']\n",
    "add_features=features[add_cat_features]\n",
    "ohc_1 = OneHotEncoder(drop = 'first',sparse=False)\n",
    "add_ohc_features=pd.DataFrame(ohc_1.fit_transform(add_features),columns=ohc_1.get_feature_names(),index=add_features.index)"
   ]
  },
  {
   "cell_type": "code",
   "execution_count": 35,
   "metadata": {},
   "outputs": [
    {
     "data": {
      "text/html": [
       "<div>\n",
       "<style scoped>\n",
       "    .dataframe tbody tr th:only-of-type {\n",
       "        vertical-align: middle;\n",
       "    }\n",
       "\n",
       "    .dataframe tbody tr th {\n",
       "        vertical-align: top;\n",
       "    }\n",
       "\n",
       "    .dataframe thead th {\n",
       "        text-align: right;\n",
       "    }\n",
       "</style>\n",
       "<table border=\"1\" class=\"dataframe\">\n",
       "  <thead>\n",
       "    <tr style=\"text-align: right;\">\n",
       "      <th></th>\n",
       "      <th>loan_amount</th>\n",
       "      <th>term</th>\n",
       "      <th>property_value</th>\n",
       "      <th>income</th>\n",
       "      <th>Credit_Score</th>\n",
       "      <th>LTV</th>\n",
       "      <th>dtir1</th>\n",
       "      <th>x0_nob/c</th>\n",
       "      <th>x1_not_neg</th>\n",
       "      <th>x2_not_lpsm</th>\n",
       "      <th>...</th>\n",
       "      <th>x7_4U</th>\n",
       "      <th>x8_35-44</th>\n",
       "      <th>x8_45-54</th>\n",
       "      <th>x8_55-64</th>\n",
       "      <th>x8_65-74</th>\n",
       "      <th>x8_&lt;25</th>\n",
       "      <th>x8_&gt;74</th>\n",
       "      <th>x9_North-East</th>\n",
       "      <th>x9_central</th>\n",
       "      <th>x9_south</th>\n",
       "    </tr>\n",
       "  </thead>\n",
       "  <tbody>\n",
       "    <tr>\n",
       "      <th>0</th>\n",
       "      <td>116500</td>\n",
       "      <td>360.0</td>\n",
       "      <td>118000.0</td>\n",
       "      <td>1740.0</td>\n",
       "      <td>758</td>\n",
       "      <td>98.728814</td>\n",
       "      <td>45.0</td>\n",
       "      <td>1.0</td>\n",
       "      <td>1.0</td>\n",
       "      <td>1.0</td>\n",
       "      <td>...</td>\n",
       "      <td>0.0</td>\n",
       "      <td>0.0</td>\n",
       "      <td>0.0</td>\n",
       "      <td>0.0</td>\n",
       "      <td>0.0</td>\n",
       "      <td>0.0</td>\n",
       "      <td>0.0</td>\n",
       "      <td>0.0</td>\n",
       "      <td>0.0</td>\n",
       "      <td>1.0</td>\n",
       "    </tr>\n",
       "    <tr>\n",
       "      <th>2</th>\n",
       "      <td>406500</td>\n",
       "      <td>360.0</td>\n",
       "      <td>508000.0</td>\n",
       "      <td>9480.0</td>\n",
       "      <td>834</td>\n",
       "      <td>80.019685</td>\n",
       "      <td>46.0</td>\n",
       "      <td>1.0</td>\n",
       "      <td>0.0</td>\n",
       "      <td>1.0</td>\n",
       "      <td>...</td>\n",
       "      <td>0.0</td>\n",
       "      <td>1.0</td>\n",
       "      <td>0.0</td>\n",
       "      <td>0.0</td>\n",
       "      <td>0.0</td>\n",
       "      <td>0.0</td>\n",
       "      <td>0.0</td>\n",
       "      <td>0.0</td>\n",
       "      <td>0.0</td>\n",
       "      <td>1.0</td>\n",
       "    </tr>\n",
       "    <tr>\n",
       "      <th>3</th>\n",
       "      <td>456500</td>\n",
       "      <td>360.0</td>\n",
       "      <td>658000.0</td>\n",
       "      <td>11880.0</td>\n",
       "      <td>587</td>\n",
       "      <td>69.376900</td>\n",
       "      <td>42.0</td>\n",
       "      <td>1.0</td>\n",
       "      <td>1.0</td>\n",
       "      <td>1.0</td>\n",
       "      <td>...</td>\n",
       "      <td>0.0</td>\n",
       "      <td>0.0</td>\n",
       "      <td>1.0</td>\n",
       "      <td>0.0</td>\n",
       "      <td>0.0</td>\n",
       "      <td>0.0</td>\n",
       "      <td>0.0</td>\n",
       "      <td>0.0</td>\n",
       "      <td>0.0</td>\n",
       "      <td>0.0</td>\n",
       "    </tr>\n",
       "    <tr>\n",
       "      <th>4</th>\n",
       "      <td>696500</td>\n",
       "      <td>360.0</td>\n",
       "      <td>758000.0</td>\n",
       "      <td>10440.0</td>\n",
       "      <td>602</td>\n",
       "      <td>91.886544</td>\n",
       "      <td>39.0</td>\n",
       "      <td>1.0</td>\n",
       "      <td>1.0</td>\n",
       "      <td>1.0</td>\n",
       "      <td>...</td>\n",
       "      <td>0.0</td>\n",
       "      <td>0.0</td>\n",
       "      <td>0.0</td>\n",
       "      <td>0.0</td>\n",
       "      <td>0.0</td>\n",
       "      <td>0.0</td>\n",
       "      <td>0.0</td>\n",
       "      <td>0.0</td>\n",
       "      <td>0.0</td>\n",
       "      <td>0.0</td>\n",
       "    </tr>\n",
       "    <tr>\n",
       "      <th>5</th>\n",
       "      <td>706500</td>\n",
       "      <td>360.0</td>\n",
       "      <td>1008000.0</td>\n",
       "      <td>10080.0</td>\n",
       "      <td>864</td>\n",
       "      <td>70.089286</td>\n",
       "      <td>40.0</td>\n",
       "      <td>1.0</td>\n",
       "      <td>1.0</td>\n",
       "      <td>1.0</td>\n",
       "      <td>...</td>\n",
       "      <td>0.0</td>\n",
       "      <td>1.0</td>\n",
       "      <td>0.0</td>\n",
       "      <td>0.0</td>\n",
       "      <td>0.0</td>\n",
       "      <td>0.0</td>\n",
       "      <td>0.0</td>\n",
       "      <td>0.0</td>\n",
       "      <td>0.0</td>\n",
       "      <td>0.0</td>\n",
       "    </tr>\n",
       "    <tr>\n",
       "      <th>...</th>\n",
       "      <td>...</td>\n",
       "      <td>...</td>\n",
       "      <td>...</td>\n",
       "      <td>...</td>\n",
       "      <td>...</td>\n",
       "      <td>...</td>\n",
       "      <td>...</td>\n",
       "      <td>...</td>\n",
       "      <td>...</td>\n",
       "      <td>...</td>\n",
       "      <td>...</td>\n",
       "      <td>...</td>\n",
       "      <td>...</td>\n",
       "      <td>...</td>\n",
       "      <td>...</td>\n",
       "      <td>...</td>\n",
       "      <td>...</td>\n",
       "      <td>...</td>\n",
       "      <td>...</td>\n",
       "      <td>...</td>\n",
       "      <td>...</td>\n",
       "    </tr>\n",
       "    <tr>\n",
       "      <th>148665</th>\n",
       "      <td>436500</td>\n",
       "      <td>180.0</td>\n",
       "      <td>608000.0</td>\n",
       "      <td>7860.0</td>\n",
       "      <td>659</td>\n",
       "      <td>71.792763</td>\n",
       "      <td>48.0</td>\n",
       "      <td>1.0</td>\n",
       "      <td>1.0</td>\n",
       "      <td>1.0</td>\n",
       "      <td>...</td>\n",
       "      <td>0.0</td>\n",
       "      <td>0.0</td>\n",
       "      <td>0.0</td>\n",
       "      <td>1.0</td>\n",
       "      <td>0.0</td>\n",
       "      <td>0.0</td>\n",
       "      <td>0.0</td>\n",
       "      <td>0.0</td>\n",
       "      <td>0.0</td>\n",
       "      <td>1.0</td>\n",
       "    </tr>\n",
       "    <tr>\n",
       "      <th>148666</th>\n",
       "      <td>586500</td>\n",
       "      <td>360.0</td>\n",
       "      <td>788000.0</td>\n",
       "      <td>7140.0</td>\n",
       "      <td>569</td>\n",
       "      <td>74.428934</td>\n",
       "      <td>15.0</td>\n",
       "      <td>1.0</td>\n",
       "      <td>1.0</td>\n",
       "      <td>1.0</td>\n",
       "      <td>...</td>\n",
       "      <td>1.0</td>\n",
       "      <td>0.0</td>\n",
       "      <td>0.0</td>\n",
       "      <td>0.0</td>\n",
       "      <td>0.0</td>\n",
       "      <td>0.0</td>\n",
       "      <td>0.0</td>\n",
       "      <td>0.0</td>\n",
       "      <td>0.0</td>\n",
       "      <td>1.0</td>\n",
       "    </tr>\n",
       "    <tr>\n",
       "      <th>148667</th>\n",
       "      <td>446500</td>\n",
       "      <td>180.0</td>\n",
       "      <td>728000.0</td>\n",
       "      <td>6900.0</td>\n",
       "      <td>702</td>\n",
       "      <td>61.332418</td>\n",
       "      <td>49.0</td>\n",
       "      <td>1.0</td>\n",
       "      <td>1.0</td>\n",
       "      <td>1.0</td>\n",
       "      <td>...</td>\n",
       "      <td>0.0</td>\n",
       "      <td>0.0</td>\n",
       "      <td>1.0</td>\n",
       "      <td>0.0</td>\n",
       "      <td>0.0</td>\n",
       "      <td>0.0</td>\n",
       "      <td>0.0</td>\n",
       "      <td>0.0</td>\n",
       "      <td>0.0</td>\n",
       "      <td>0.0</td>\n",
       "    </tr>\n",
       "    <tr>\n",
       "      <th>148668</th>\n",
       "      <td>196500</td>\n",
       "      <td>180.0</td>\n",
       "      <td>278000.0</td>\n",
       "      <td>7140.0</td>\n",
       "      <td>737</td>\n",
       "      <td>70.683453</td>\n",
       "      <td>29.0</td>\n",
       "      <td>1.0</td>\n",
       "      <td>1.0</td>\n",
       "      <td>1.0</td>\n",
       "      <td>...</td>\n",
       "      <td>0.0</td>\n",
       "      <td>0.0</td>\n",
       "      <td>0.0</td>\n",
       "      <td>1.0</td>\n",
       "      <td>0.0</td>\n",
       "      <td>0.0</td>\n",
       "      <td>0.0</td>\n",
       "      <td>0.0</td>\n",
       "      <td>0.0</td>\n",
       "      <td>0.0</td>\n",
       "    </tr>\n",
       "    <tr>\n",
       "      <th>148669</th>\n",
       "      <td>406500</td>\n",
       "      <td>240.0</td>\n",
       "      <td>558000.0</td>\n",
       "      <td>7260.0</td>\n",
       "      <td>830</td>\n",
       "      <td>72.849462</td>\n",
       "      <td>44.0</td>\n",
       "      <td>1.0</td>\n",
       "      <td>1.0</td>\n",
       "      <td>1.0</td>\n",
       "      <td>...</td>\n",
       "      <td>0.0</td>\n",
       "      <td>0.0</td>\n",
       "      <td>1.0</td>\n",
       "      <td>0.0</td>\n",
       "      <td>0.0</td>\n",
       "      <td>0.0</td>\n",
       "      <td>0.0</td>\n",
       "      <td>0.0</td>\n",
       "      <td>0.0</td>\n",
       "      <td>0.0</td>\n",
       "    </tr>\n",
       "  </tbody>\n",
       "</table>\n",
       "<p>120526 rows × 34 columns</p>\n",
       "</div>"
      ],
      "text/plain": [
       "        loan_amount   term  property_value   income  Credit_Score        LTV  \\\n",
       "0            116500  360.0        118000.0   1740.0           758  98.728814   \n",
       "2            406500  360.0        508000.0   9480.0           834  80.019685   \n",
       "3            456500  360.0        658000.0  11880.0           587  69.376900   \n",
       "4            696500  360.0        758000.0  10440.0           602  91.886544   \n",
       "5            706500  360.0       1008000.0  10080.0           864  70.089286   \n",
       "...             ...    ...             ...      ...           ...        ...   \n",
       "148665       436500  180.0        608000.0   7860.0           659  71.792763   \n",
       "148666       586500  360.0        788000.0   7140.0           569  74.428934   \n",
       "148667       446500  180.0        728000.0   6900.0           702  61.332418   \n",
       "148668       196500  180.0        278000.0   7140.0           737  70.683453   \n",
       "148669       406500  240.0        558000.0   7260.0           830  72.849462   \n",
       "\n",
       "        dtir1  x0_nob/c  x1_not_neg  x2_not_lpsm  ...  x7_4U  x8_35-44  \\\n",
       "0        45.0       1.0         1.0          1.0  ...    0.0       0.0   \n",
       "2        46.0       1.0         0.0          1.0  ...    0.0       1.0   \n",
       "3        42.0       1.0         1.0          1.0  ...    0.0       0.0   \n",
       "4        39.0       1.0         1.0          1.0  ...    0.0       0.0   \n",
       "5        40.0       1.0         1.0          1.0  ...    0.0       1.0   \n",
       "...       ...       ...         ...          ...  ...    ...       ...   \n",
       "148665   48.0       1.0         1.0          1.0  ...    0.0       0.0   \n",
       "148666   15.0       1.0         1.0          1.0  ...    1.0       0.0   \n",
       "148667   49.0       1.0         1.0          1.0  ...    0.0       0.0   \n",
       "148668   29.0       1.0         1.0          1.0  ...    0.0       0.0   \n",
       "148669   44.0       1.0         1.0          1.0  ...    0.0       0.0   \n",
       "\n",
       "        x8_45-54  x8_55-64  x8_65-74  x8_<25  x8_>74  x9_North-East  \\\n",
       "0            0.0       0.0       0.0     0.0     0.0            0.0   \n",
       "2            0.0       0.0       0.0     0.0     0.0            0.0   \n",
       "3            1.0       0.0       0.0     0.0     0.0            0.0   \n",
       "4            0.0       0.0       0.0     0.0     0.0            0.0   \n",
       "5            0.0       0.0       0.0     0.0     0.0            0.0   \n",
       "...          ...       ...       ...     ...     ...            ...   \n",
       "148665       0.0       1.0       0.0     0.0     0.0            0.0   \n",
       "148666       0.0       0.0       0.0     0.0     0.0            0.0   \n",
       "148667       1.0       0.0       0.0     0.0     0.0            0.0   \n",
       "148668       0.0       1.0       0.0     0.0     0.0            0.0   \n",
       "148669       1.0       0.0       0.0     0.0     0.0            0.0   \n",
       "\n",
       "        x9_central  x9_south  \n",
       "0              0.0       1.0  \n",
       "2              0.0       1.0  \n",
       "3              0.0       0.0  \n",
       "4              0.0       0.0  \n",
       "5              0.0       0.0  \n",
       "...            ...       ...  \n",
       "148665         0.0       1.0  \n",
       "148666         0.0       1.0  \n",
       "148667         0.0       0.0  \n",
       "148668         0.0       0.0  \n",
       "148669         0.0       0.0  \n",
       "\n",
       "[120526 rows x 34 columns]"
      ]
     },
     "execution_count": 35,
     "metadata": {},
     "output_type": "execute_result"
    }
   ],
   "source": [
    "X0=pd.concat([X,add_ohc_features],axis=1)\n",
    "X0"
   ]
  },
  {
   "cell_type": "code",
   "execution_count": 36,
   "metadata": {},
   "outputs": [
    {
     "data": {
      "text/plain": [
       "((84368, 34), (36158, 34))"
      ]
     },
     "execution_count": 36,
     "metadata": {},
     "output_type": "execute_result"
    }
   ],
   "source": [
    "X0_train, X0_test, y0_train, y0_test = train_test_split(X0, y, test_size=0.3, random_state=42,stratify=y)\n",
    "X0_train.shape, X0_test.shape"
   ]
  },
  {
   "cell_type": "code",
   "execution_count": 37,
   "metadata": {},
   "outputs": [],
   "source": [
    "new_cat_features_list=cat_features_list+list(ohc_1.get_feature_names())\n",
    "X0_train_num=X0_train[num_features_list]\n",
    "X0_test_num=X0_test[num_features_list]\n",
    "sc0=StandardScaler()\n",
    "X0_train_num_sc=sc0.fit_transform(X0_train_num)\n",
    "X0_test_num_sc=sc0.transform(X0_test_num)\n",
    "X0_train_num_sc=pd.DataFrame(X0_train_num_sc,columns=X0_train_num.columns,index=X0_train_num.index)\n",
    "X0_train_sc=pd.concat([X0_train_num_sc,X0_train[new_cat_features_list]],axis=1)\n",
    "X0_test_num_sc=pd.DataFrame(X0_test_num_sc,columns=X0_test_num.columns,index=X0_test_num.index)\n",
    "X0_test_sc=pd.concat([X0_test_num_sc,X0_test[new_cat_features_list]],axis=1)"
   ]
  },
  {
   "cell_type": "code",
   "execution_count": 38,
   "metadata": {},
   "outputs": [
    {
     "data": {
      "image/png": "[encoded data removed]",
      "text/plain": [
       "<Figure size 432x288 with 2 Axes>"
      ]
     },
     "metadata": {
      "needs_background": "light"
     },
     "output_type": "display_data"
    },
    {
     "name": "stdout",
     "output_type": "stream",
     "text": [
      "              precision    recall  f1-score   support\n",
      "\n",
      "           0       0.63      0.70      0.66     70615\n",
      "           1       0.66      0.59      0.63     70615\n",
      "\n",
      "    accuracy                           0.65    141230\n",
      "   macro avg       0.65      0.65      0.65    141230\n",
      "weighted avg       0.65      0.65      0.65    141230\n",
      "\n"
     ]
    }
   ],
   "source": [
    "smote0=SMOTE(sampling_strategy=1)\n",
    "X0_train_resam,y0_train_resam=smote.fit_resample(X0_train_sc,y0_train)\n",
    "lr3=LogisticRegression(C=1,random_state=42)\n",
    "lr3.fit(X0_train_resam,y0_train_resam)\n",
    "plot_confusion_matrix(lr3,X0_train_resam,y0_train_resam)\n",
    "plt.title('LR3 SMOTE=1 Add Features Train Set Classification Metircs')\n",
    "plt.show()\n",
    "print(classification_report(y0_train_resam,lr3.predict(X0_train_resam)))"
   ]
  },
  {
   "cell_type": "code",
   "execution_count": 39,
   "metadata": {},
   "outputs": [
    {
     "data": {
      "image/png": "[encoded data removed]",
      "text/plain": [
       "<Figure size 432x288 with 2 Axes>"
      ]
     },
     "metadata": {
      "needs_background": "light"
     },
     "output_type": "display_data"
    },
    {
     "name": "stdout",
     "output_type": "stream",
     "text": [
      "              precision    recall  f1-score   support\n",
      "\n",
      "           0       0.90      0.70      0.79     30264\n",
      "           1       0.28      0.61      0.39      5894\n",
      "\n",
      "    accuracy                           0.69     36158\n",
      "   macro avg       0.59      0.66      0.59     36158\n",
      "weighted avg       0.80      0.69      0.72     36158\n",
      "\n"
     ]
    }
   ],
   "source": [
    "plot_confusion_matrix(lr3,X0_test_sc,y0_test)\n",
    "plt.title('LR3 SMOTE=1 Add Features Test Set Classification Metircs')\n",
    "plt.show()\n",
    "print(classification_report(y0_test,lr3.predict(X0_test_sc)))"
   ]
  },
  {
   "cell_type": "markdown",
   "metadata": {},
   "source": [
    "## LR4 Regularization Tuning C"
   ]
  },
  {
   "cell_type": "code",
   "execution_count": 40,
   "metadata": {
    "scrolled": true
   },
   "outputs": [
    {
     "data": {
      "text/plain": [
       "{'mean_fit_time': array([0.21748724, 0.22364492, 0.24695978, 0.76110301, 0.63398438,\n",
       "        1.59272113, 1.80782752, 1.85872173, 1.91977229, 1.97717395,\n",
       "        2.14393044, 1.73376665, 2.70289321]),\n",
       " 'std_fit_time': array([0.07950516, 0.00533825, 0.12366178, 0.29362407, 0.05667613,\n",
       "        0.78098165, 0.09445218, 0.15093231, 0.17345464, 0.40723082,\n",
       "        0.40212657, 0.75921458, 0.41878284]),\n",
       " 'mean_score_time': array([0.01491723, 0.02843161, 0.01675658, 0.01778855, 0.02095137,\n",
       "        0.02926335, 0.01675234, 0.02525353, 0.02294512, 0.01788988,\n",
       "        0.03896947, 0.04085059, 0.04947505]),\n",
       " 'std_score_time': array([0.00291442, 0.01962103, 0.00118495, 0.00432513, 0.00448295,\n",
       "        0.02066576, 0.00201115, 0.01419356, 0.01188834, 0.00248147,\n",
       "        0.0310895 , 0.04595031, 0.04282179]),\n",
       " 'param_C': masked_array(data=[1e-08, 1e-07, 1e-06, 1e-05, 0.0001, 0.001, 0.01, 0.1,\n",
       "                    1, 10, 100.0, 1000.0, 10000.0],\n",
       "              mask=[False, False, False, False, False, False, False, False,\n",
       "                    False, False, False, False, False],\n",
       "        fill_value='?',\n",
       "             dtype=object),\n",
       " 'params': [{'C': 1e-08},\n",
       "  {'C': 1e-07},\n",
       "  {'C': 1e-06},\n",
       "  {'C': 1e-05},\n",
       "  {'C': 0.0001},\n",
       "  {'C': 0.001},\n",
       "  {'C': 0.01},\n",
       "  {'C': 0.1},\n",
       "  {'C': 1},\n",
       "  {'C': 10},\n",
       "  {'C': 100.0},\n",
       "  {'C': 1000.0},\n",
       "  {'C': 10000.0}],\n",
       " 'split0_test_score': array([0.51865751, 0.51915315, 0.63775402, 0.62854918, 0.62097288,\n",
       "        0.56623947, 0.51908235, 0.51115202, 0.51037315, 0.51037315,\n",
       "        0.51037315, 0.51037315, 0.51037315]),\n",
       " 'split1_test_score': array([0.51504638, 0.51554202, 0.64391418, 0.63343482, 0.62238901,\n",
       "        0.54839623, 0.50626637, 0.49897331, 0.49861927, 0.49847766,\n",
       "        0.49847766, 0.49847766, 0.49847766]),\n",
       " 'split2_test_score': array([0.51193089, 0.51249734, 0.63088579, 0.62316788, 0.60999788,\n",
       "        0.54832543, 0.50527508, 0.49691992, 0.49614105, 0.49614105,\n",
       "        0.49614105, 0.49614105, 0.49614105]),\n",
       " 'split3_test_score': array([0.51150605, 0.51178928, 0.63598386, 0.62755788, 0.61495433,\n",
       "        0.54520994, 0.50300928, 0.49628266, 0.49578701, 0.49571621,\n",
       "        0.49571621, 0.49571621, 0.49571621]),\n",
       " 'split4_test_score': array([0.51561283, 0.51632089, 0.64115273, 0.63138143, 0.61955675,\n",
       "        0.55512285, 0.51348864, 0.5054167 , 0.50470863, 0.50456702,\n",
       "        0.50456702, 0.50456702, 0.50456702]),\n",
       " 'mean_test_score': array([0.51455073, 0.51506054, 0.63793812, 0.62881824, 0.61757417,\n",
       "        0.55265878, 0.50942434, 0.50174892, 0.50112582, 0.50105502,\n",
       "        0.50105502, 0.50105502, 0.50105502]),\n",
       " 'std_test_score': array([0.00262194, 0.00267735, 0.00446398, 0.00350629, 0.00453714,\n",
       "        0.00752249, 0.00596888, 0.00570568, 0.00562109, 0.00562947,\n",
       "        0.00562947, 0.00562947, 0.00562947]),\n",
       " 'rank_test_score': array([ 6,  5,  1,  2,  3,  4,  7,  8,  9, 10, 10, 10, 10])}"
      ]
     },
     "execution_count": 40,
     "metadata": {},
     "output_type": "execute_result"
    }
   ],
   "source": [
    "from sklearn.model_selection import GridSearchCV\n",
    "params={'C':[1e-8,1e-7,1e-6,1e-5,1e-4,1e-3,1e-2,0.1,1,10,1e+2,1e+3,1e+4]}\n",
    "clf=GridSearchCV(lr2,params,scoring='recall')\n",
    "clf.fit(X_train_resam,y_train_resam)\n",
    "clf.cv_results_"
   ]
  },
  {
   "cell_type": "code",
   "execution_count": 41,
   "metadata": {},
   "outputs": [
    {
     "data": {
      "text/plain": [
       "{'C': 1e-06}"
      ]
     },
     "execution_count": 41,
     "metadata": {},
     "output_type": "execute_result"
    }
   ],
   "source": [
    "clf.best_params_"
   ]
  },
  {
   "cell_type": "code",
   "execution_count": 42,
   "metadata": {},
   "outputs": [
    {
     "data": {
      "image/png": "[encoded data removed]",
      "text/plain": [
       "<Figure size 432x288 with 2 Axes>"
      ]
     },
     "metadata": {
      "needs_background": "light"
     },
     "output_type": "display_data"
    },
    {
     "name": "stdout",
     "output_type": "stream",
     "text": [
      "              precision    recall  f1-score   support\n",
      "\n",
      "           0       0.60      0.54      0.57     70615\n",
      "           1       0.58      0.64      0.61     70615\n",
      "\n",
      "    accuracy                           0.59    141230\n",
      "   macro avg       0.59      0.59      0.59    141230\n",
      "weighted avg       0.59      0.59      0.59    141230\n",
      "\n"
     ]
    }
   ],
   "source": [
    "lr4=LogisticRegression(C=1e-6,random_state=42)\n",
    "lr4.fit(X_train_resam,y_train_resam)\n",
    "plot_confusion_matrix(lr4,X_train_resam,y_train_resam)\n",
    "plt.title('LR4 SMOTE=1 C=1e-6 Basic Features Train Set Classification Metircs')\n",
    "plt.show()\n",
    "print(classification_report(y_train_resam,lr4.predict(X_train_resam)))"
   ]
  },
  {
   "cell_type": "code",
   "execution_count": 43,
   "metadata": {},
   "outputs": [
    {
     "data": {
      "image/png": "[encoded data removed]",
      "text/plain": [
       "<Figure size 432x288 with 2 Axes>"
      ]
     },
     "metadata": {
      "needs_background": "light"
     },
     "output_type": "display_data"
    },
    {
     "name": "stdout",
     "output_type": "stream",
     "text": [
      "              precision    recall  f1-score   support\n",
      "\n",
      "           0       0.88      0.55      0.67     30264\n",
      "           1       0.21      0.63      0.32      5894\n",
      "\n",
      "    accuracy                           0.56     36158\n",
      "   macro avg       0.55      0.59      0.50     36158\n",
      "weighted avg       0.77      0.56      0.62     36158\n",
      "\n"
     ]
    }
   ],
   "source": [
    "plot_confusion_matrix(lr4,X_test_sc,y_test)\n",
    "plt.title('LR4 SMOTE=1 C=1e-6 Basic Features Test Set Classification Metircs')\n",
    "plt.show()\n",
    "print(classification_report(y_test,lr4.predict(X_test_sc)))"
   ]
  },
  {
   "cell_type": "code",
   "execution_count": 44,
   "metadata": {},
   "outputs": [
    {
     "data": {
      "text/plain": [
       "{'mean_fit_time': array([0.37986493, 0.39337811, 0.80734301, 0.84764128, 1.26776762,\n",
       "        1.2572515 , 3.2295073 , 3.01294866, 1.82372494, 1.86124997,\n",
       "        2.69891591, 6.25752978, 3.21919737]),\n",
       " 'std_fit_time': array([0.14962608, 0.09454726, 0.05471779, 0.07898627, 0.20388937,\n",
       "        0.85650238, 2.04435467, 1.20431513, 0.13718336, 0.65572829,\n",
       "        1.8213978 , 1.26202353, 1.91871143]),\n",
       " 'mean_score_time': array([0.02806902, 0.02609396, 0.03949447, 0.04041023, 0.0371119 ,\n",
       "        0.01844449, 0.03434157, 0.0210762 , 0.01933374, 0.0183713 ,\n",
       "        0.03267365, 0.0170301 , 0.01983004]),\n",
       " 'std_score_time': array([0.01363038, 0.01535703, 0.03371723, 0.03275012, 0.03426357,\n",
       "        0.00083543, 0.03267016, 0.00222775, 0.00158082, 0.00047017,\n",
       "        0.02349534, 0.00123047, 0.00251189]),\n",
       " 'param_C': masked_array(data=[1e-08, 1e-07, 1e-06, 1e-05, 0.0001, 0.001, 0.01, 0.1,\n",
       "                    1, 10, 100.0, 1000.0, 10000.0],\n",
       "              mask=[False, False, False, False, False, False, False, False,\n",
       "                    False, False, False, False, False],\n",
       "        fill_value='?',\n",
       "             dtype=object),\n",
       " 'params': [{'C': 1e-08},\n",
       "  {'C': 1e-07},\n",
       "  {'C': 1e-06},\n",
       "  {'C': 1e-05},\n",
       "  {'C': 0.0001},\n",
       "  {'C': 0.001},\n",
       "  {'C': 0.01},\n",
       "  {'C': 0.1},\n",
       "  {'C': 1},\n",
       "  {'C': 10},\n",
       "  {'C': 100.0},\n",
       "  {'C': 1000.0},\n",
       "  {'C': 10000.0}],\n",
       " 'split0_test_score': array([0.57905544, 0.57976351, 0.63385966, 0.62847837, 0.61856546,\n",
       "        0.62238901, 0.61049352, 0.607024  , 0.60815691, 0.60780287,\n",
       "        0.60766126, 0.60787368, 0.60780287]),\n",
       " 'split1_test_score': array([0.57147915, 0.57190399, 0.64186079, 0.63697515, 0.61707852,\n",
       "        0.60291723, 0.59484529, 0.59130496, 0.5917298 , 0.5917298 ,\n",
       "        0.5917298 , 0.59144658, 0.59158819]),\n",
       " 'split2_test_score': array([0.58068399, 0.58110883, 0.65418112, 0.64582596, 0.62373433,\n",
       "        0.60865255, 0.59555335, 0.59201303, 0.59236706, 0.59243787,\n",
       "        0.59229625, 0.59229625, 0.59236706]),\n",
       " 'split3_test_score': array([0.56121221, 0.56177866, 0.6375416 , 0.6266374 , 0.6124053 ,\n",
       "        0.59654464, 0.58691496, 0.58436593, 0.58351625, 0.58330383,\n",
       "        0.58351625, 0.58358706, 0.58351625]),\n",
       " 'split4_test_score': array([0.56645189, 0.56680592, 0.63683353, 0.62954047, 0.61169723,\n",
       "        0.60334207, 0.5927919 , 0.59038448, 0.59038448, 0.59024287,\n",
       "        0.59024287, 0.59024287, 0.59038448]),\n",
       " 'mean_test_score': array([0.57177653, 0.57227218, 0.64085534, 0.63349147, 0.61669617,\n",
       "        0.6067691 , 0.5961198 , 0.59301848, 0.5932309 , 0.59310345,\n",
       "        0.59308929, 0.59308929, 0.59313177]),\n",
       " 'std_test_score': array([0.00738066, 0.00740724, 0.00713698, 0.00709923, 0.00439493,\n",
       "        0.0087023 , 0.00780196, 0.00750875, 0.00810261, 0.00803266,\n",
       "        0.00793177, 0.00800375, 0.00797765]),\n",
       " 'rank_test_score': array([13, 12,  1,  2,  3,  4,  5, 11,  6,  8,  9,  9,  7])}"
      ]
     },
     "execution_count": 44,
     "metadata": {},
     "output_type": "execute_result"
    }
   ],
   "source": [
    "clf1=GridSearchCV(lr3,params,scoring='recall')\n",
    "clf1.fit(X0_train_resam,y0_train_resam)\n",
    "clf1.cv_results_"
   ]
  },
  {
   "cell_type": "code",
   "execution_count": 45,
   "metadata": {},
   "outputs": [
    {
     "data": {
      "text/plain": [
       "{'C': 1e-06}"
      ]
     },
     "execution_count": 45,
     "metadata": {},
     "output_type": "execute_result"
    }
   ],
   "source": [
    "clf1.best_params_"
   ]
  },
  {
   "cell_type": "code",
   "execution_count": 46,
   "metadata": {},
   "outputs": [
    {
     "data": {
      "image/png": "[encoded data removed]",
      "text/plain": [
       "<Figure size 432x288 with 2 Axes>"
      ]
     },
     "metadata": {
      "needs_background": "light"
     },
     "output_type": "display_data"
    },
    {
     "name": "stdout",
     "output_type": "stream",
     "text": [
      "              precision    recall  f1-score   support\n",
      "\n",
      "           0       0.61      0.55      0.58     70615\n",
      "           1       0.59      0.64      0.61     70615\n",
      "\n",
      "    accuracy                           0.60    141230\n",
      "   macro avg       0.60      0.60      0.60    141230\n",
      "weighted avg       0.60      0.60      0.60    141230\n",
      "\n"
     ]
    }
   ],
   "source": [
    "lr4_1=LogisticRegression(C=1e-6,random_state=42)\n",
    "lr4_1.fit(X0_train_resam,y0_train_resam)\n",
    "plot_confusion_matrix(lr4_1,X0_train_resam,y0_train_resam)\n",
    "plt.title('LR4_1 SMOTE=1 C=1e-6 Add Features Train Set Classification Metircs')\n",
    "plt.show()\n",
    "print(classification_report(y0_train_resam,lr4_1.predict(X0_train_resam)))"
   ]
  },
  {
   "cell_type": "code",
   "execution_count": 47,
   "metadata": {},
   "outputs": [
    {
     "data": {
      "image/png": "[encoded data removed]",
      "text/plain": [
       "<Figure size 432x288 with 2 Axes>"
      ]
     },
     "metadata": {
      "needs_background": "light"
     },
     "output_type": "display_data"
    },
    {
     "name": "stdout",
     "output_type": "stream",
     "text": [
      "              precision    recall  f1-score   support\n",
      "\n",
      "           0       0.88      0.56      0.68     30264\n",
      "           1       0.22      0.63      0.32      5894\n",
      "\n",
      "    accuracy                           0.57     36158\n",
      "   macro avg       0.55      0.59      0.50     36158\n",
      "weighted avg       0.78      0.57      0.63     36158\n",
      "\n"
     ]
    }
   ],
   "source": [
    "plot_confusion_matrix(lr4_1,X0_test_sc,y0_test)\n",
    "plt.title('LR4_1 SMOTE=1 C=1e-6 Add Features Test Set Classification Metircs')\n",
    "plt.show()\n",
    "print(classification_report(y0_test,lr4_1.predict(X0_test_sc)))"
   ]
  },
  {
   "cell_type": "code",
   "execution_count": null,
   "metadata": {},
   "outputs": [],
   "source": [
    "f, ax=plt.subplots()\n",
    "plot_roc_curve(lr,X_test_sc,y_test,ax=ax,label=f\"baseline AUC {roc_auc_score(y_test,lr.predict_proba(X_test_sc)[:,1]):.2f}\")\n",
    "plot_roc_curve(lr1,X_test_sc,y_test,ax=ax,label=f\"lr1 AUC {roc_auc_score(y_test,lr1.predict_proba(X_test_sc)[:,1]):.2f}\")\n",
    "plot_roc_curve(lr2,X_test_sc,y_test,ax=ax,label=f\"lr2 AUC {roc_auc_score(y_test,lr2.predict_proba(X_test_sc)[:,1]):.2f}\")\n",
    "plot_roc_curve(lr3,X_test_sc,y_test,ax=ax,label=f\"lr3 AUC {roc_auc_score(y_test,lr3.predict_proba(X_test_sc)[:,1]):.2f}\")\n",
    "plot_roc_curve(lr3_1,X_test_sc,y_test,ax=ax,label=f\"lr3_1 AUC {roc_auc_score(y_test,lr3_1.predict_proba(X_test_sc)[:,1]):.2f}\")"
   ]
  },
  {
   "cell_type": "code",
   "execution_count": 48,
   "metadata": {},
   "outputs": [],
   "source": [
    "def cross_val (X_train, y_train, C, num_split=10):\n",
    "    X_train = X_train.values\n",
    "    y_train = y_train.values\n",
    "    \n",
    "    score_train_list = []\n",
    "    score_val_list = []\n",
    "    \n",
    "    smote=SMOTE(sampling_strategy=1)\n",
    "    X_train_resam,y_train_resam=smote.fit_resample(X_train,y_train)\n",
    "    for train_index, valid_index in KFold(n_splits = num_split).split(X_train_resam):\n",
    "\n",
    "\n",
    "        # train and validation splitting \n",
    "        X_train_fold, X_val_fold = X_train_resam[train_index], X_train_resam[valid_index]\n",
    "        y_train_fold, y_val_fold = y_train_resam[train_index], y_train_resam[valid_index]\n",
    "\n",
    "        #create/fit the Standard scaler on the train fold\n",
    "        scaler = StandardScaler()\n",
    "        X_tf_num_sc = scaler.fit_transform(X_train_fold[:,0:7])\n",
    "        X_tf_sc=np.concatenate((X_tf_num_sc,X_train_fold[:,7:]),axis=1)\n",
    "        # transform validation fold\n",
    "        X_vld_num_sc = scaler.transform(X_val_fold[:,0:7])\n",
    "        X_vld_sc = np.concatenate((X_vld_num_sc,X_val_fold[:,7:]),axis=1)\n",
    "        # create/fit logistic regression\n",
    "        logreg = LogisticRegression(C = C)\n",
    "        logreg.fit(X_tf_sc, y_train_fold)\n",
    "        \n",
    "        # now how did we do in recall score?\n",
    "        recall_train = recall_score(y_train_fold,logreg.predict(X_tf_sc))\n",
    "        recall_val = recall_score(y_val_fold,logreg.predict(X_vld_sc))\n",
    "        score_val_list.append(recall_train)\n",
    "        score_train_list.append(recall_val)\n",
    "    \n",
    "    return {'C': C, 'train': np.mean(score_train_list), 'validation': np.mean(score_val_list)}"
   ]
  },
  {
   "cell_type": "code",
   "execution_count": 51,
   "metadata": {},
   "outputs": [],
   "source": [
    "def cross_validate (X_train, y_train, C, num_split=10):\n",
    "    X_train = X_train.values\n",
    "    y_train = y_train.values\n",
    "    \n",
    "    score_train_list = []\n",
    "    score_val_list = []\n",
    "    \n",
    "    for train_index, valid_index in KFold(n_splits = num_split).split(X_train):\n",
    "\n",
    "\n",
    "        # train and validation splitting \n",
    "        X_train_fold, X_val_fold = X_train[train_index], X_train[valid_index]\n",
    "        y_train_fold, y_val_fold = y_train[train_index], y_train[valid_index]\n",
    "\n",
    "        #create/fit the Standard scaler on the train fold\n",
    "        scaler = StandardScaler()\n",
    "        X_tf_num_sc = scaler.fit_transform(X_train_fold[:,0:7])\n",
    "        X_tf_sc=np.concatenate((X_tf_num_sc,X_train_fold[:,7:]),axis=1)\n",
    "        # transform validation fold\n",
    "        X_vld_num_sc = scaler.transform(X_val_fold[:,0:7])\n",
    "        X_vld_sc = np.concatenate((X_vld_num_sc,X_val_fold[:,7:]),axis=1)\n",
    "        # create/fit logistic regression\n",
    "        logreg = LogisticRegression(C = C)\n",
    "        logreg.fit(X_tf_sc, y_train_fold)\n",
    "        \n",
    "        # now how did we do in recall score?\n",
    "        recall_train = recall_score(y_train_fold,logreg.predict(X_tf_sc))\n",
    "        recall_val = recall_score(y_val_fold,logreg.predict(X_vld_sc))\n",
    "        score_val_list.append(recall_train)\n",
    "        score_train_list.append(recall_val)\n",
    "    \n",
    "    return {'C': C, 'train': np.mean(score_train_list), 'validation': np.mean(score_val_list)}"
   ]
  },
  {
   "cell_type": "code",
   "execution_count": 52,
   "metadata": {},
   "outputs": [
    {
     "data": {
      "text/html": [
       "<div>\n",
       "<style scoped>\n",
       "    .dataframe tbody tr th:only-of-type {\n",
       "        vertical-align: middle;\n",
       "    }\n",
       "\n",
       "    .dataframe tbody tr th {\n",
       "        vertical-align: top;\n",
       "    }\n",
       "\n",
       "    .dataframe thead th {\n",
       "        text-align: right;\n",
       "    }\n",
       "</style>\n",
       "<table border=\"1\" class=\"dataframe\">\n",
       "  <thead>\n",
       "    <tr style=\"text-align: right;\">\n",
       "      <th></th>\n",
       "      <th>C</th>\n",
       "      <th>train</th>\n",
       "      <th>validation</th>\n",
       "    </tr>\n",
       "  </thead>\n",
       "  <tbody>\n",
       "    <tr>\n",
       "      <th>0</th>\n",
       "      <td>1.000000e-08</td>\n",
       "      <td>0.600000</td>\n",
       "      <td>0.600000</td>\n",
       "    </tr>\n",
       "    <tr>\n",
       "      <th>1</th>\n",
       "      <td>1.000000e-07</td>\n",
       "      <td>0.600000</td>\n",
       "      <td>0.600000</td>\n",
       "    </tr>\n",
       "    <tr>\n",
       "      <th>2</th>\n",
       "      <td>1.000000e-06</td>\n",
       "      <td>0.549996</td>\n",
       "      <td>0.570305</td>\n",
       "    </tr>\n",
       "    <tr>\n",
       "      <th>3</th>\n",
       "      <td>1.000000e-05</td>\n",
       "      <td>0.526165</td>\n",
       "      <td>0.552376</td>\n",
       "    </tr>\n",
       "    <tr>\n",
       "      <th>4</th>\n",
       "      <td>1.000000e-04</td>\n",
       "      <td>0.554179</td>\n",
       "      <td>0.575833</td>\n",
       "    </tr>\n",
       "    <tr>\n",
       "      <th>5</th>\n",
       "      <td>1.000000e-03</td>\n",
       "      <td>0.591313</td>\n",
       "      <td>0.617859</td>\n",
       "    </tr>\n",
       "    <tr>\n",
       "      <th>6</th>\n",
       "      <td>1.000000e-02</td>\n",
       "      <td>0.564004</td>\n",
       "      <td>0.595517</td>\n",
       "    </tr>\n",
       "    <tr>\n",
       "      <th>7</th>\n",
       "      <td>1.000000e-01</td>\n",
       "      <td>0.568398</td>\n",
       "      <td>0.598036</td>\n",
       "    </tr>\n",
       "    <tr>\n",
       "      <th>8</th>\n",
       "      <td>1.000000e+00</td>\n",
       "      <td>0.563497</td>\n",
       "      <td>0.595861</td>\n",
       "    </tr>\n",
       "    <tr>\n",
       "      <th>9</th>\n",
       "      <td>1.000000e+01</td>\n",
       "      <td>0.555467</td>\n",
       "      <td>0.589140</td>\n",
       "    </tr>\n",
       "    <tr>\n",
       "      <th>10</th>\n",
       "      <td>1.000000e+02</td>\n",
       "      <td>0.556001</td>\n",
       "      <td>0.589139</td>\n",
       "    </tr>\n",
       "    <tr>\n",
       "      <th>11</th>\n",
       "      <td>1.000000e+03</td>\n",
       "      <td>0.562679</td>\n",
       "      <td>0.592465</td>\n",
       "    </tr>\n",
       "    <tr>\n",
       "      <th>12</th>\n",
       "      <td>1.000000e+04</td>\n",
       "      <td>0.562055</td>\n",
       "      <td>0.593955</td>\n",
       "    </tr>\n",
       "  </tbody>\n",
       "</table>\n",
       "</div>"
      ],
      "text/plain": [
       "               C     train  validation\n",
       "0   1.000000e-08  0.600000    0.600000\n",
       "1   1.000000e-07  0.600000    0.600000\n",
       "2   1.000000e-06  0.549996    0.570305\n",
       "3   1.000000e-05  0.526165    0.552376\n",
       "4   1.000000e-04  0.554179    0.575833\n",
       "5   1.000000e-03  0.591313    0.617859\n",
       "6   1.000000e-02  0.564004    0.595517\n",
       "7   1.000000e-01  0.568398    0.598036\n",
       "8   1.000000e+00  0.563497    0.595861\n",
       "9   1.000000e+01  0.555467    0.589140\n",
       "10  1.000000e+02  0.556001    0.589139\n",
       "11  1.000000e+03  0.562679    0.592465\n",
       "12  1.000000e+04  0.562055    0.593955"
      ]
     },
     "execution_count": 52,
     "metadata": {},
     "output_type": "execute_result"
    }
   ],
   "source": [
    "# empty dataframe\n",
    "crossval_df = pd.DataFrame(columns = ['C', 'train', 'validation'])\n",
    "# append results for each value of C\n",
    "for C in [1e-8,1e-7,1e-6,1e-5,1e-4,1e-3,1e-2,0.1,1,10,1e+2,1e+3,1e+4]:\n",
    "    crossval_df = crossval_df.append(cross_val(X_train, y_train, C, 5),ignore_index=True)\n",
    "crossval_df"
   ]
  },
  {
   "cell_type": "code",
   "execution_count": 53,
   "metadata": {},
   "outputs": [
    {
     "data": {
      "image/png": "[encoded data removed]",
      "text/plain": [
       "<Figure size 432x288 with 2 Axes>"
      ]
     },
     "metadata": {
      "needs_background": "light"
     },
     "output_type": "display_data"
    },
    {
     "name": "stdout",
     "output_type": "stream",
     "text": [
      "              precision    recall  f1-score   support\n",
      "\n",
      "           0       0.61      0.73      0.67     70615\n",
      "           1       0.67      0.55      0.60     70615\n",
      "\n",
      "    accuracy                           0.64    141230\n",
      "   macro avg       0.64      0.64      0.63    141230\n",
      "weighted avg       0.64      0.64      0.63    141230\n",
      "\n"
     ]
    }
   ],
   "source": [
    "lr5=LogisticRegression(C=1e-3,random_state=42)\n",
    "lr5.fit(X_train_resam,y_train_resam)\n",
    "plot_confusion_matrix(lr5,X_train_resam,y_train_resam)\n",
    "plt.title('LR5 SMOTE=1 C=1e-3 Basic Features Train Set Classification Metircs')\n",
    "plt.show()\n",
    "print(classification_report(y_train_resam,lr5.predict(X_train_resam)))"
   ]
  },
  {
   "cell_type": "code",
   "execution_count": 54,
   "metadata": {},
   "outputs": [
    {
     "data": {
      "image/png": "[encoded data removed]",
      "text/plain": [
       "<Figure size 432x288 with 2 Axes>"
      ]
     },
     "metadata": {
      "needs_background": "light"
     },
     "output_type": "display_data"
    },
    {
     "name": "stdout",
     "output_type": "stream",
     "text": [
      "              precision    recall  f1-score   support\n",
      "\n",
      "           0       0.89      0.73      0.80     30264\n",
      "           1       0.28      0.55      0.38      5894\n",
      "\n",
      "    accuracy                           0.70     36158\n",
      "   macro avg       0.59      0.64      0.59     36158\n",
      "weighted avg       0.79      0.70      0.73     36158\n",
      "\n"
     ]
    }
   ],
   "source": [
    "plot_confusion_matrix(lr5,X_test_sc,y_test)\n",
    "plt.title('LR5 SMOTE=1 C=1e-3 Basic Features Test Set Classification Metircs')\n",
    "plt.show()\n",
    "print(classification_report(y_test,lr5.predict(X_test_sc)))"
   ]
  },
  {
   "cell_type": "code",
   "execution_count": 55,
   "metadata": {
    "scrolled": true
   },
   "outputs": [
    {
     "name": "stdout",
     "output_type": "stream",
     "text": [
      "LR2 Model Co-efficients\n",
      "loan_amount -0.1874251686510712\n",
      "term -0.04788751511380606\n",
      "property_value 0.3166809850010293\n",
      "income -0.24142636857201144\n",
      "Credit_Score 0.01777606596676475\n",
      "LTV 0.2965665774498719\n",
      "dtir1 0.10892818212081734\n",
      "x0_nob/c -0.568944286078071\n",
      "x1_not_neg -0.9875768720135238\n",
      "----------------------\n",
      "LR4 Model Co-efficients\n",
      "loan_amount -0.003102466978194615\n",
      "term 0.0012055320512523086\n",
      "property_value -0.003690885204641488\n",
      "income -0.006964701522392047\n",
      "Credit_Score 0.00026386237465643464\n",
      "LTV 0.008169156959256466\n",
      "dtir1 0.007068506420571315\n",
      "x0_nob/c -0.003511109975774765\n",
      "x1_not_neg -0.003524361607402307\n"
     ]
    }
   ],
   "source": [
    "print('LR2 Model Co-efficients')\n",
    "for index in range(0,9):\n",
    "    print(X_train.columns[index],lr2.coef_[0,index])\n",
    "print('----------------------')\n",
    "print('LR4 Model Co-efficients')\n",
    "for index in range(0,9):\n",
    "    print(X_train.columns[index],lr4.coef_[0,index])"
   ]
  },
  {
   "cell_type": "code",
   "execution_count": 56,
   "metadata": {},
   "outputs": [
    {
     "name": "stdout",
     "output_type": "stream",
     "text": [
      "LR3 Model Co-efficients\n",
      "loan_amount -0.26278163357563705\n",
      "term -0.02467218471772174\n",
      "property_value 0.3797659180071386\n",
      "income -0.29638637150165126\n",
      "Credit_Score 0.02323390377303115\n",
      "LTV 0.5251959682984667\n",
      "dtir1 0.10307560000076794\n",
      "x0_nob/c 0.868732667047747\n",
      "x1_not_neg -0.8823869363113465\n",
      "x2_not_lpsm -2.7092684776490024\n",
      "x3_not_int 0.041532605659981396\n",
      "x0_ncf 0.7623136934593026\n",
      "x1_pre -0.38711060208318454\n",
      "x2_type2 1.3481128320993905\n",
      "x2_type3 -0.3370415707582967\n",
      "x3_p2 1.051290941193696\n",
      "x3_p3 0.4193044455985052\n",
      "x3_p4 0.3422361953786148\n",
      "x4_l2 -0.02435565427526881\n",
      "x5_opc -0.2169806958126531\n",
      "x6_pr -0.5418117862196516\n",
      "x6_sr -0.1992615785074778\n",
      "x7_2U 0.45433075942638224\n",
      "x7_3U 0.6004667847839876\n",
      "x7_4U -0.16421142888955007\n",
      "x8_35-44 -0.038117604455239595\n",
      "x8_45-54 0.21449163033943444\n",
      "x8_55-64 0.3459349735227633\n",
      "x8_65-74 0.33838052301851057\n",
      "x8_<25 0.02775802574756008\n",
      "x8_>74 0.39848956338802266\n",
      "x9_North-East 0.07341140825439522\n",
      "----------------------\n",
      "LR4_1 Model Co-efficients\n",
      "loan_amount -0.003611153695280393\n",
      "term 0.001095000660665011\n",
      "property_value -0.004228659501992762\n",
      "income -0.007102655684604271\n",
      "Credit_Score 0.0004596658827337751\n",
      "LTV 0.008323794564934588\n",
      "dtir1 0.007390707915875687\n",
      "x0_nob/c -0.0033916377871926655\n",
      "x1_not_neg -0.0030091523742365807\n",
      "x2_not_lpsm -0.0017201515689852164\n",
      "x3_not_int 0.0002123968619067175\n",
      "x0_ncf 0.0008640910159436971\n",
      "x1_pre -0.0017966383790124917\n",
      "x2_type2 0.003391386934801856\n",
      "x2_type3 5.920739359402179e-05\n",
      "x3_p2 0.00038606392431135263\n",
      "x3_p3 0.0015536379347789535\n",
      "x3_p4 -0.001026500145081602\n",
      "x4_l2 0.0001346030174812667\n",
      "x5_opc -8.446626748681913e-05\n",
      "x6_pr -0.0003022644411531598\n",
      "x6_sr -6.431554422410037e-05\n",
      "x7_2U 0.00012740786506494904\n",
      "x7_3U 3.989406640227489e-05\n",
      "x7_4U -8.721718505095519e-06\n",
      "x8_35-44 -0.0014126802860420912\n",
      "x8_45-54 -4.859540320176868e-06\n",
      "x8_55-64 0.0010078845261167933\n",
      "x8_65-74 0.0005163442875304473\n",
      "x8_<25 1.3506894313675094e-05\n",
      "x8_>74 0.0002850259519023432\n",
      "x9_North-East 1.1873578719078576e-05\n"
     ]
    }
   ],
   "source": [
    "print('LR3 Model Co-efficients')\n",
    "for index in range(0,32):\n",
    "    print(X0_train.columns[index],lr3.coef_[0,index])\n",
    "print('----------------------')\n",
    "print('LR4_1 Model Co-efficients')\n",
    "for index in range(0,32):\n",
    "    print(X0_train.columns[index],lr4_1.coef_[0,index])"
   ]
  },
  {
   "cell_type": "markdown",
   "metadata": {},
   "source": [
    "# Decision Trees"
   ]
  },
  {
   "cell_type": "code",
   "execution_count": 58,
   "metadata": {},
   "outputs": [],
   "source": [
    "tree=DecisionTreeClassifier(random_state=42)"
   ]
  },
  {
   "cell_type": "code",
   "execution_count": 59,
   "metadata": {},
   "outputs": [
    {
     "data": {
      "text/plain": [
       "<sklearn.metrics._plot.confusion_matrix.ConfusionMatrixDisplay at 0x228fa29ce20>"
      ]
     },
     "execution_count": 59,
     "metadata": {},
     "output_type": "execute_result"
    },
    {
     "data": {
      "image/png": "[encoded data removed]",
      "text/plain": [
       "<Figure size 432x288 with 2 Axes>"
      ]
     },
     "metadata": {
      "needs_background": "light"
     },
     "output_type": "display_data"
    }
   ],
   "source": [
    "tree.fit(X_train_sc,y_train)\n",
    "plot_confusion_matrix(tree,X_train_sc,y_train)"
   ]
  },
  {
   "cell_type": "code",
   "execution_count": 60,
   "metadata": {},
   "outputs": [
    {
     "data": {
      "text/plain": [
       "<sklearn.metrics._plot.confusion_matrix.ConfusionMatrixDisplay at 0x228f8e87cd0>"
      ]
     },
     "execution_count": 60,
     "metadata": {},
     "output_type": "execute_result"
    },
    {
     "data": {
      "image/png": "[encoded data removed]",
      "text/plain": [
       "<Figure size 432x288 with 2 Axes>"
      ]
     },
     "metadata": {
      "needs_background": "light"
     },
     "output_type": "display_data"
    }
   ],
   "source": [
    "plot_confusion_matrix(tree,X_test_sc,y_test)"
   ]
  },
  {
   "cell_type": "code",
   "execution_count": 61,
   "metadata": {},
   "outputs": [
    {
     "data": {
      "text/plain": [
       "51"
      ]
     },
     "execution_count": 61,
     "metadata": {},
     "output_type": "execute_result"
    }
   ],
   "source": [
    "tree.get_depth()"
   ]
  },
  {
   "cell_type": "code",
   "execution_count": 65,
   "metadata": {},
   "outputs": [
    {
     "data": {
      "text/plain": [
       "{'mean_fit_time': array([0.75337877, 0.7572382 , 0.6934207 , 0.72034574, 0.74154444,\n",
       "        0.68380013, 0.73155193, 0.6782104 , 0.5451726 , 0.43862848,\n",
       "        0.27992702, 0.29350519, 0.17482042, 0.09084897]),\n",
       " 'std_fit_time': array([0.03106782, 0.10403268, 0.0279632 , 0.02915002, 0.04463435,\n",
       "        0.07336642, 0.1009933 , 0.1231393 , 0.02783303, 0.04286187,\n",
       "        0.021148  , 0.16490117, 0.05423203, 0.00599766]),\n",
       " 'mean_score_time': array([0.0142343 , 0.01376438, 0.01405315, 0.01273904, 0.01373062,\n",
       "        0.012637  , 0.01504254, 0.01378465, 0.01061502, 0.00946264,\n",
       "        0.00841155, 0.00935926, 0.00772066, 0.00711694]),\n",
       " 'std_score_time': array([0.00307138, 0.00071807, 0.00099352, 0.00100426, 0.00110495,\n",
       "        0.00083895, 0.00244122, 0.00343537, 0.00098361, 0.00052945,\n",
       "        0.00089781, 0.00221464, 0.00075951, 0.00036193]),\n",
       " 'param_max_depth': masked_array(data=[50, 47, 45, 43, 40, 35, 30, 25, 20, 15, 10, 7, 5, 3],\n",
       "              mask=[False, False, False, False, False, False, False, False,\n",
       "                    False, False, False, False, False, False],\n",
       "        fill_value='?',\n",
       "             dtype=object),\n",
       " 'params': [{'max_depth': 50},\n",
       "  {'max_depth': 47},\n",
       "  {'max_depth': 45},\n",
       "  {'max_depth': 43},\n",
       "  {'max_depth': 40},\n",
       "  {'max_depth': 35},\n",
       "  {'max_depth': 30},\n",
       "  {'max_depth': 25},\n",
       "  {'max_depth': 20},\n",
       "  {'max_depth': 15},\n",
       "  {'max_depth': 10},\n",
       "  {'max_depth': 7},\n",
       "  {'max_depth': 5},\n",
       "  {'max_depth': 3}],\n",
       " 'split0_test_score': array([0.38095238, 0.38458742, 0.37949836, 0.38386041, 0.37840785,\n",
       "        0.37295529, 0.36459469, 0.34532897, 0.31552163, 0.28316976,\n",
       "        0.27480916, 0.25009088, 0.19592875, 0.18138859]),\n",
       " 'split1_test_score': array([0.36132316, 0.36386768, 0.3649582 , 0.36713922, 0.36786623,\n",
       "        0.36205016, 0.34605598, 0.32460923, 0.30170847, 0.28898582,\n",
       "        0.25808797, 0.22537259, 0.18356961, 0.20465285]),\n",
       " 'split2_test_score': array([0.37804435, 0.37513631, 0.37331879, 0.37622683, 0.37077426,\n",
       "        0.37004726, 0.35877863, 0.34351145, 0.32788077, 0.29298437,\n",
       "        0.27553617, 0.25336241, 0.20065431, 0.21155943]),\n",
       " 'split3_test_score': array([0.37236364, 0.37236364, 0.372     , 0.36909091, 0.36545455,\n",
       "        0.36872727, 0.35890909, 0.33309091, 0.30690909, 0.28290909,\n",
       "        0.25963636, 0.23563636, 0.19490909, 0.18509091]),\n",
       " 'split4_test_score': array([0.36872727, 0.37236364, 0.37018182, 0.37309091, 0.37236364,\n",
       "        0.37090909, 0.35672727, 0.33636364, 0.30727273, 0.28181818,\n",
       "        0.26      , 0.24545455, 0.22290909, 0.21018182]),\n",
       " 'mean_test_score': array([0.37228216, 0.37366374, 0.37199143, 0.37388166, 0.37097331,\n",
       "        0.36893781, 0.35701313, 0.33658084, 0.31185854, 0.28597344,\n",
       "        0.26561393, 0.24198336, 0.19959417, 0.19857472]),\n",
       " 'std_test_score': array([0.00694434, 0.00664588, 0.00470865, 0.00590106, 0.00441261,\n",
       "        0.00370786, 0.00607178, 0.00748478, 0.00915075, 0.00430685,\n",
       "        0.00783442, 0.01023197, 0.0129374 , 0.0127863 ]),\n",
       " 'rank_test_score': array([ 3,  2,  4,  1,  5,  6,  7,  8,  9, 10, 11, 12, 13, 14])}"
      ]
     },
     "execution_count": 65,
     "metadata": {},
     "output_type": "execute_result"
    }
   ],
   "source": [
    "tree_params={'max_depth':[50,47,45,43,40,35,30,25,20,15,10,7,5,3]}\n",
    "clf3=GridSearchCV(tree,tree_params,scoring='recall')\n",
    "clf3.fit(X_train_sc,y_train)\n",
    "clf3.cv_results_"
   ]
  },
  {
   "cell_type": "code",
   "execution_count": 66,
   "metadata": {},
   "outputs": [
    {
     "data": {
      "text/plain": [
       "{'max_depth': 43}"
      ]
     },
     "execution_count": 66,
     "metadata": {},
     "output_type": "execute_result"
    }
   ],
   "source": [
    "clf3.best_params_"
   ]
  },
  {
   "cell_type": "code",
   "execution_count": 67,
   "metadata": {},
   "outputs": [
    {
     "data": {
      "text/plain": [
       "<sklearn.metrics._plot.confusion_matrix.ConfusionMatrixDisplay at 0x228f8e88d00>"
      ]
     },
     "execution_count": 67,
     "metadata": {},
     "output_type": "execute_result"
    },
    {
     "data": {
      "image/png": "[encoded data removed]",
      "text/plain": [
       "<Figure size 432x288 with 2 Axes>"
      ]
     },
     "metadata": {
      "needs_background": "light"
     },
     "output_type": "display_data"
    }
   ],
   "source": [
    "tree1=DecisionTreeClassifier(max_depth=43,random_state=42)\n",
    "tree1.fit(X_train_sc,y_train)\n",
    "plot_confusion_matrix(tree1,X_train_sc,y_train)"
   ]
  },
  {
   "cell_type": "code",
   "execution_count": 68,
   "metadata": {},
   "outputs": [
    {
     "data": {
      "text/plain": [
       "<sklearn.metrics._plot.confusion_matrix.ConfusionMatrixDisplay at 0x22886405bb0>"
      ]
     },
     "execution_count": 68,
     "metadata": {},
     "output_type": "execute_result"
    },
    {
     "data": {
      "image/png": "[encoded data removed]",
      "text/plain": [
       "<Figure size 432x288 with 2 Axes>"
      ]
     },
     "metadata": {
      "needs_background": "light"
     },
     "output_type": "display_data"
    }
   ],
   "source": [
    "plot_confusion_matrix(tree1,X_test_sc,y_test)"
   ]
  },
  {
   "cell_type": "code",
   "execution_count": 69,
   "metadata": {},
   "outputs": [
    {
     "name": "stdout",
     "output_type": "stream",
     "text": [
      "ratio 0.20 train recall score 1.00 test recall score 0.37\n",
      "ratio 0.30 train recall score 1.00 test recall score 0.39\n",
      "ratio 0.40 train recall score 1.00 test recall score 0.40\n",
      "ratio 0.50 train recall score 1.00 test recall score 0.39\n",
      "ratio 0.60 train recall score 1.00 test recall score 0.40\n",
      "ratio 0.70 train recall score 1.00 test recall score 0.40\n",
      "ratio 0.80 train recall score 1.00 test recall score 0.40\n",
      "ratio 0.90 train recall score 1.00 test recall score 0.40\n",
      "ratio 1.00 train recall score 1.00 test recall score 0.40\n"
     ]
    }
   ],
   "source": [
    "for ratio in np.linspace(0.2,1,9):\n",
    "    smote=SMOTE(sampling_strategy=ratio)\n",
    "    X_train_resam,y_train_resam=smote.fit_resample(X_train_sc,y_train)\n",
    "    tree=DecisionTreeClassifier(random_state=42)\n",
    "    tree.fit(X_train_resam,y_train_resam)\n",
    "    print(f\"ratio {ratio:.2f} train recall score {recall_score(y_train_resam,tree.predict(X_train_resam)):.2f} test recall score {recall_score(y_test,tree.predict(X_test_sc)):.2f}\")"
   ]
  },
  {
   "cell_type": "markdown",
   "metadata": {},
   "source": [
    "even resampling still looks appropriate, so will keep implementing X_train_resam,y_train_resam as defined earlier"
   ]
  },
  {
   "cell_type": "code",
   "execution_count": 70,
   "metadata": {},
   "outputs": [
    {
     "data": {
      "text/plain": [
       "<sklearn.metrics._plot.confusion_matrix.ConfusionMatrixDisplay at 0x2288b5c04f0>"
      ]
     },
     "execution_count": 70,
     "metadata": {},
     "output_type": "execute_result"
    },
    {
     "data": {
      "image/png": "[encoded data removed]",
      "text/plain": [
       "<Figure size 432x288 with 2 Axes>"
      ]
     },
     "metadata": {
      "needs_background": "light"
     },
     "output_type": "display_data"
    }
   ],
   "source": [
    "tree2=DecisionTreeClassifier(random_state=42)\n",
    "tree2.fit(X_train_resam,y_train_resam)\n",
    "plot_confusion_matrix(tree2,X_train_resam,y_train_resam)"
   ]
  },
  {
   "cell_type": "code",
   "execution_count": 71,
   "metadata": {},
   "outputs": [
    {
     "data": {
      "text/plain": [
       "<sklearn.metrics._plot.confusion_matrix.ConfusionMatrixDisplay at 0x2288b1857c0>"
      ]
     },
     "execution_count": 71,
     "metadata": {},
     "output_type": "execute_result"
    },
    {
     "data": {
      "image/png": "[encoded data removed]",
      "text/plain": [
       "<Figure size 432x288 with 2 Axes>"
      ]
     },
     "metadata": {
      "needs_background": "light"
     },
     "output_type": "display_data"
    }
   ],
   "source": [
    "plot_confusion_matrix(tree2,X_test_sc,y_test)"
   ]
  },
  {
   "cell_type": "code",
   "execution_count": 73,
   "metadata": {},
   "outputs": [
    {
     "data": {
      "text/plain": [
       "70"
      ]
     },
     "execution_count": 73,
     "metadata": {},
     "output_type": "execute_result"
    }
   ],
   "source": [
    "tree2.get_depth()"
   ]
  },
  {
   "cell_type": "code",
   "execution_count": 75,
   "metadata": {},
   "outputs": [
    {
     "data": {
      "text/plain": [
       "{'mean_fit_time': array([1.65700083, 1.77019897, 1.68334002, 1.72169361, 1.59644413,\n",
       "        2.13018451, 2.09261622, 1.60279031, 1.81324596, 1.83936725,\n",
       "        1.72482271, 1.60903416, 1.29814067, 0.93819027, 0.70679345,\n",
       "        0.57261648, 0.45302033, 0.34575334]),\n",
       " 'std_fit_time': array([0.11776952, 0.23210042, 0.10445246, 0.305479  , 0.2043444 ,\n",
       "        0.23489025, 0.19242395, 0.28696941, 0.19325307, 0.2100015 ,\n",
       "        0.17855861, 0.08465414, 0.18634193, 0.09253997, 0.12569034,\n",
       "        0.07328164, 0.10574426, 0.02216408]),\n",
       " 'mean_score_time': array([0.02239933, 0.02147222, 0.0223165 , 0.02041082, 0.02216191,\n",
       "        0.02528205, 0.02952118, 0.01816258, 0.02391672, 0.02703133,\n",
       "        0.02294979, 0.02405362, 0.02039452, 0.01817312, 0.02019119,\n",
       "        0.02737379, 0.02482061, 0.02144341]),\n",
       " 'std_score_time': array([0.00494387, 0.00517541, 0.00477493, 0.00155971, 0.00647629,\n",
       "        0.00313313, 0.00539207, 0.00143423, 0.00481902, 0.00585199,\n",
       "        0.00466749, 0.00537582, 0.00551373, 0.00416781, 0.00407743,\n",
       "        0.01791252, 0.01793936, 0.0031279 ]),\n",
       " 'param_max_depth': masked_array(data=[65, 63, 60, 55, 50, 45, 40, 35, 30, 25, 20, 18, 15, 10,\n",
       "                    7, 5, 4, 3],\n",
       "              mask=[False, False, False, False, False, False, False, False,\n",
       "                    False, False, False, False, False, False, False, False,\n",
       "                    False, False],\n",
       "        fill_value='?',\n",
       "             dtype=object),\n",
       " 'params': [{'max_depth': 65},\n",
       "  {'max_depth': 63},\n",
       "  {'max_depth': 60},\n",
       "  {'max_depth': 55},\n",
       "  {'max_depth': 50},\n",
       "  {'max_depth': 45},\n",
       "  {'max_depth': 40},\n",
       "  {'max_depth': 35},\n",
       "  {'max_depth': 30},\n",
       "  {'max_depth': 25},\n",
       "  {'max_depth': 20},\n",
       "  {'max_depth': 18},\n",
       "  {'max_depth': 15},\n",
       "  {'max_depth': 10},\n",
       "  {'max_depth': 7},\n",
       "  {'max_depth': 5},\n",
       "  {'max_depth': 4},\n",
       "  {'max_depth': 3}],\n",
       " 'split0_test_score': array([0.4377257 , 0.43892941, 0.43935424, 0.44126602, 0.44728457,\n",
       "        0.44041634, 0.44098279, 0.43892941, 0.40600439, 0.47659846,\n",
       "        0.4377257 , 0.44997522, 0.47935991, 0.49196346, 0.54138639,\n",
       "        0.39325922, 0.65347306, 0.40699568]),\n",
       " 'split1_test_score': array([0.9290519 , 0.92891029, 0.92848545, 0.9257948 , 0.92282093,\n",
       "        0.91942222, 0.90922609, 0.89322382, 0.86582171, 0.81236281,\n",
       "        0.73383842, 0.69553211, 0.6430645 , 0.59321674, 0.59654464,\n",
       "        0.44891312, 0.65793387, 0.57565673]),\n",
       " 'split2_test_score': array([0.93507045, 0.93507045, 0.93627416, 0.93259223, 0.93131771,\n",
       "        0.92013028, 0.90306592, 0.89124124, 0.84861573, 0.82163846,\n",
       "        0.74991149, 0.72781987, 0.66536855, 0.5971111 , 0.63173547,\n",
       "        0.45988813, 0.66905049, 0.58266657]),\n",
       " 'split3_test_score': array([0.92919351, 0.92961835, 0.92891029, 0.92657367, 0.92324577,\n",
       "        0.91729802, 0.90143737, 0.8799122 , 0.84309283, 0.79954684,\n",
       "        0.72831551, 0.70289599, 0.66296113, 0.58903916, 0.59966013,\n",
       "        0.4530907 , 0.65630532, 0.56758479]),\n",
       " 'split4_test_score': array([0.93436239, 0.93492884, 0.93273384, 0.92912271, 0.92650287,\n",
       "        0.92282093, 0.90639383, 0.89102882, 0.84231396, 0.80726475,\n",
       "        0.733626  , 0.71896906, 0.65580967, 0.61729094, 0.63336402,\n",
       "        0.46357006, 0.66720952, 0.58394109]),\n",
       " 'mean_test_score': array([0.83308079, 0.83349147, 0.8331516 , 0.83106989, 0.83023437,\n",
       "        0.82401756, 0.8122212 , 0.7988671 , 0.76116972, 0.74348226,\n",
       "        0.67668342, 0.65903845, 0.62131275, 0.57772428, 0.60053813,\n",
       "        0.44374425, 0.66079445, 0.54336897]),\n",
       " 'std_test_score': array([0.19769351, 0.19729784, 0.19691902, 0.19491638, 0.19149904,\n",
       "        0.19180873, 0.18563872, 0.18002967, 0.17778472, 0.13363482,\n",
       "        0.11969809, 0.10515252, 0.07139928, 0.04396437, 0.03336603,\n",
       "        0.02575461, 0.00618471, 0.06843534]),\n",
       " 'rank_test_score': array([ 3,  1,  2,  4,  5,  6,  7,  8,  9, 10, 11, 13, 14, 16, 15, 18, 12,\n",
       "        17])}"
      ]
     },
     "execution_count": 75,
     "metadata": {},
     "output_type": "execute_result"
    }
   ],
   "source": [
    "tree_params={'max_depth':[65,63,60,55,50,45,40,35,30,25,20,18,15,10,7,5,4,3]}\n",
    "clf4=GridSearchCV(tree2,tree_params,scoring='recall')\n",
    "clf4.fit(X_train_resam,y_train_resam)\n",
    "clf4.cv_results_"
   ]
  },
  {
   "cell_type": "code",
   "execution_count": 77,
   "metadata": {},
   "outputs": [
    {
     "data": {
      "text/plain": [
       "DecisionTreeClassifier(max_depth=63, random_state=42)"
      ]
     },
     "execution_count": 77,
     "metadata": {},
     "output_type": "execute_result"
    }
   ],
   "source": [
    "clf4.best_estimator_"
   ]
  },
  {
   "cell_type": "code",
   "execution_count": 79,
   "metadata": {},
   "outputs": [
    {
     "data": {
      "image/png": "[encoded data removed]",
      "text/plain": [
       "<Figure size 432x288 with 2 Axes>"
      ]
     },
     "metadata": {
      "needs_background": "light"
     },
     "output_type": "display_data"
    },
    {
     "name": "stdout",
     "output_type": "stream",
     "text": [
      "              precision    recall  f1-score   support\n",
      "\n",
      "           0       1.00      1.00      1.00     70615\n",
      "           1       1.00      1.00      1.00     70615\n",
      "\n",
      "    accuracy                           1.00    141230\n",
      "   macro avg       1.00      1.00      1.00    141230\n",
      "weighted avg       1.00      1.00      1.00    141230\n",
      "\n"
     ]
    }
   ],
   "source": [
    "tree3=DecisionTreeClassifier(max_depth=63,random_state=42)\n",
    "tree3.fit(X_train_resam,y_train_resam)\n",
    "plot_confusion_matrix(tree3,X_train_resam,y_train_resam)\n",
    "plt.show()\n",
    "print(classification_report(y_train_resam,tree3.predict(X_train_resam)))"
   ]
  },
  {
   "cell_type": "code",
   "execution_count": 80,
   "metadata": {},
   "outputs": [
    {
     "data": {
      "text/plain": [
       "<sklearn.metrics._plot.confusion_matrix.ConfusionMatrixDisplay at 0x2288c60e8b0>"
      ]
     },
     "execution_count": 80,
     "metadata": {},
     "output_type": "execute_result"
    },
    {
     "data": {
      "image/png": "[encoded data removed]",
      "text/plain": [
       "<Figure size 432x288 with 2 Axes>"
      ]
     },
     "metadata": {
      "needs_background": "light"
     },
     "output_type": "display_data"
    }
   ],
   "source": [
    "plot_confusion_matrix(tree3,X_test_sc,y_test)"
   ]
  },
  {
   "cell_type": "code",
   "execution_count": 82,
   "metadata": {},
   "outputs": [
    {
     "data": {
      "text/plain": [
       "{'mean_fit_time': array([1.19965754, 1.45953698, 1.2723897 , 1.43938861, 1.43370433,\n",
       "        1.24830885, 1.3091372 , 0.97837472, 0.84374928, 1.06361127,\n",
       "        0.95479708, 0.9144927 , 0.68653383, 0.59497232, 0.62173033,\n",
       "        0.6264689 , 0.4753829 , 0.31258492]),\n",
       " 'std_fit_time': array([0.09390219, 0.21342687, 0.20366248, 0.07069384, 0.23793977,\n",
       "        0.14848564, 0.24455323, 0.10944083, 0.04576861, 0.07359677,\n",
       "        0.16543849, 0.14869763, 0.13173907, 0.03374032, 0.11635092,\n",
       "        0.12388259, 0.06968155, 0.05412005]),\n",
       " 'mean_score_time': array([0.01566114, 0.02004523, 0.01830926, 0.02321777, 0.02112379,\n",
       "        0.02172246, 0.01865005, 0.01559324, 0.0169189 , 0.02009306,\n",
       "        0.02444878, 0.01951284, 0.01658449, 0.01684551, 0.01740465,\n",
       "        0.02083211, 0.01940918, 0.01668472]),\n",
       " 'std_score_time': array([0.00085748, 0.00478936, 0.00413928, 0.00398596, 0.00410492,\n",
       "        0.0031694 , 0.00524343, 0.0030226 , 0.0031809 , 0.00472952,\n",
       "        0.00404963, 0.00456821, 0.00372123, 0.00364767, 0.00617426,\n",
       "        0.00392546, 0.00256905, 0.00323552]),\n",
       " 'param_max_depth': masked_array(data=[20, 19, 18, 17, 16, 15, 14, 13, 12, 11, 10, 9, 8, 7, 6,\n",
       "                    5, 4, 3],\n",
       "              mask=[False, False, False, False, False, False, False, False,\n",
       "                    False, False, False, False, False, False, False, False,\n",
       "                    False, False],\n",
       "        fill_value='?',\n",
       "             dtype=object),\n",
       " 'params': [{'max_depth': 20},\n",
       "  {'max_depth': 19},\n",
       "  {'max_depth': 18},\n",
       "  {'max_depth': 17},\n",
       "  {'max_depth': 16},\n",
       "  {'max_depth': 15},\n",
       "  {'max_depth': 14},\n",
       "  {'max_depth': 13},\n",
       "  {'max_depth': 12},\n",
       "  {'max_depth': 11},\n",
       "  {'max_depth': 10},\n",
       "  {'max_depth': 9},\n",
       "  {'max_depth': 8},\n",
       "  {'max_depth': 7},\n",
       "  {'max_depth': 6},\n",
       "  {'max_depth': 5},\n",
       "  {'max_depth': 4},\n",
       "  {'max_depth': 3}],\n",
       " 'split0_test_score': array([0.4377257 , 0.50690363, 0.44997522, 0.52255187, 0.46880974,\n",
       "        0.47935991, 0.47291652, 0.49005169, 0.48828153, 0.49408766,\n",
       "        0.49196346, 0.50031863, 0.49175104, 0.54138639, 0.5032925 ,\n",
       "        0.39325922, 0.65347306, 0.40699568]),\n",
       " 'split1_test_score': array([0.73383842, 0.76570134, 0.69553211, 0.67662678, 0.67273242,\n",
       "        0.6430645 , 0.62847837, 0.63570063, 0.60461658, 0.61183884,\n",
       "        0.59321674, 0.58861432, 0.57013382, 0.59654464, 0.5546272 ,\n",
       "        0.44891312, 0.65793387, 0.57565673]),\n",
       " 'split2_test_score': array([0.74991149, 0.73440487, 0.72781987, 0.70325002, 0.68951356,\n",
       "        0.66536855, 0.66274871, 0.65071161, 0.64221483, 0.62614175,\n",
       "        0.5971111 , 0.58096722, 0.5917298 , 0.63173547, 0.5786306 ,\n",
       "        0.45988813, 0.66905049, 0.58266657]),\n",
       " 'split3_test_score': array([0.72831551, 0.70898534, 0.70289599, 0.68250372, 0.67167033,\n",
       "        0.66296113, 0.65552645, 0.65049919, 0.62946966, 0.60617433,\n",
       "        0.58903916, 0.57367415, 0.56085817, 0.59966013, 0.53727961,\n",
       "        0.4530907 , 0.65630532, 0.56758479]),\n",
       " 'split4_test_score': array([0.733626  , 0.72951922, 0.71896906, 0.69793953, 0.68299936,\n",
       "        0.65580967, 0.67853855, 0.670325  , 0.64922467, 0.62649579,\n",
       "        0.61729094, 0.60192594, 0.60227997, 0.63336402, 0.5774977 ,\n",
       "        0.46357006, 0.66720952, 0.58394109]),\n",
       " 'mean_test_score': array([0.67668342, 0.68910288, 0.65903845, 0.65657438, 0.63714508,\n",
       "        0.62131275, 0.61964172, 0.61945762, 0.60276145, 0.59294767,\n",
       "        0.57772428, 0.56910005, 0.56335056, 0.60053813, 0.55026552,\n",
       "        0.44374425, 0.66079445, 0.54336897]),\n",
       " 'std_test_score': array([0.11969809, 0.09289236, 0.10515252, 0.06771433, 0.08442785,\n",
       "        0.07139928, 0.07512807, 0.06563172, 0.0592247 , 0.05006485,\n",
       "        0.04396437, 0.03563981, 0.03872879, 0.03336603, 0.02807238,\n",
       "        0.02575461, 0.00618471, 0.06843534]),\n",
       " 'rank_test_score': array([ 2,  1,  4,  5,  6,  7,  8,  9, 10, 12, 13, 14, 15, 11, 16, 18,  3,\n",
       "        17])}"
      ]
     },
     "execution_count": 82,
     "metadata": {},
     "output_type": "execute_result"
    }
   ],
   "source": [
    "tree_params={'max_depth':[20,19,18,17,16,15,14,13,12,11,10,9,8,7,6,5,4,3]}\n",
    "clf5=GridSearchCV(tree2,tree_params,scoring='recall')\n",
    "clf5.fit(X_train_resam,y_train_resam)\n",
    "clf5.cv_results_"
   ]
  },
  {
   "cell_type": "code",
   "execution_count": 83,
   "metadata": {},
   "outputs": [
    {
     "data": {
      "image/png": "[encoded data removed]",
      "text/plain": [
       "<Figure size 432x288 with 2 Axes>"
      ]
     },
     "metadata": {
      "needs_background": "light"
     },
     "output_type": "display_data"
    },
    {
     "name": "stdout",
     "output_type": "stream",
     "text": [
      "              precision    recall  f1-score   support\n",
      "\n",
      "           0       0.80      0.86      0.83     70615\n",
      "           1       0.85      0.78      0.81     70615\n",
      "\n",
      "    accuracy                           0.82    141230\n",
      "   macro avg       0.82      0.82      0.82    141230\n",
      "weighted avg       0.82      0.82      0.82    141230\n",
      "\n"
     ]
    }
   ],
   "source": [
    "tree4=DecisionTreeClassifier(max_depth=19,random_state=42)\n",
    "tree4.fit(X_train_resam,y_train_resam)\n",
    "plot_confusion_matrix(tree4,X_train_resam,y_train_resam)\n",
    "plt.show()\n",
    "print(classification_report(y_train_resam,tree4.predict(X_train_resam)))"
   ]
  },
  {
   "cell_type": "code",
   "execution_count": 91,
   "metadata": {},
   "outputs": [
    {
     "name": "stdout",
     "output_type": "stream",
     "text": [
      "              precision    recall  f1-score   support\n",
      "\n",
      "           0       0.89      0.81      0.85     30264\n",
      "           1       0.32      0.46      0.38      5894\n",
      "\n",
      "    accuracy                           0.75     36158\n",
      "   macro avg       0.60      0.64      0.61     36158\n",
      "weighted avg       0.79      0.75      0.77     36158\n",
      "\n"
     ]
    },
    {
     "data": {
      "image/png": "[encoded data removed]",
      "text/plain": [
       "<Figure size 432x288 with 2 Axes>"
      ]
     },
     "metadata": {
      "needs_background": "light"
     },
     "output_type": "display_data"
    }
   ],
   "source": [
    "plot_confusion_matrix(tree4,X_test_sc,y_test)\n",
    "print(classification_report(y_test,tree4.predict(X_test_sc)))"
   ]
  },
  {
   "cell_type": "code",
   "execution_count": 90,
   "metadata": {},
   "outputs": [
    {
     "name": "stdout",
     "output_type": "stream",
     "text": [
      "Tree4 Model Feature Importances\n",
      "----------------------\n",
      "loan_amount 0.004363440314210003\n",
      "term 0.0\n",
      "property_value 0.0\n",
      "income 0.17075899829925045\n",
      "Credit_Score 0.0\n",
      "LTV 0.021575670478439078\n",
      "dtir1 0.4842881679862326\n",
      "x0_nob/c 0.02422436724617863\n",
      "x1_not_neg 0.1691048362426608\n",
      "x2_not_lpsm 0.12568451943302855\n"
     ]
    }
   ],
   "source": [
    "tree4.feature_importances_\n",
    "print('Tree4 Model Feature Importances')\n",
    "print('----------------------')\n",
    "for index in range(0,10):\n",
    "    print(X_train.columns[index],tree5.feature_importances_[index])"
   ]
  },
  {
   "cell_type": "code",
   "execution_count": 93,
   "metadata": {},
   "outputs": [
    {
     "data": {
      "image/png": "[encoded data removed]",
      "text/plain": [
       "<Figure size 432x288 with 2 Axes>"
      ]
     },
     "metadata": {
      "needs_background": "light"
     },
     "output_type": "display_data"
    },
    {
     "name": "stdout",
     "output_type": "stream",
     "text": [
      "              precision    recall  f1-score   support\n",
      "\n",
      "           0       0.66      0.65      0.65     70615\n",
      "           1       0.65      0.66      0.66     70615\n",
      "\n",
      "    accuracy                           0.65    141230\n",
      "   macro avg       0.65      0.65      0.65    141230\n",
      "weighted avg       0.65      0.65      0.65    141230\n",
      "\n"
     ]
    }
   ],
   "source": [
    "tree5=DecisionTreeClassifier(max_depth=4,random_state=42)\n",
    "tree5.fit(X_train_resam,y_train_resam)\n",
    "plot_confusion_matrix(tree5,X_train_resam,y_train_resam)\n",
    "plt.title('Tree5 SMOTE=1 Depth=4 Train Set Classification Metircs')\n",
    "plt.show()\n",
    "print(classification_report(y_train_resam,tree5.predict(X_train_resam)))"
   ]
  },
  {
   "cell_type": "code",
   "execution_count": 94,
   "metadata": {},
   "outputs": [
    {
     "data": {
      "image/png": "[encoded data removed]",
      "text/plain": [
       "<Figure size 432x288 with 2 Axes>"
      ]
     },
     "metadata": {
      "needs_background": "light"
     },
     "output_type": "display_data"
    },
    {
     "name": "stdout",
     "output_type": "stream",
     "text": [
      "              precision    recall  f1-score   support\n",
      "\n",
      "           0       0.90      0.65      0.76     30264\n",
      "           1       0.26      0.65      0.38      5894\n",
      "\n",
      "    accuracy                           0.65     36158\n",
      "   macro avg       0.58      0.65      0.57     36158\n",
      "weighted avg       0.80      0.65      0.69     36158\n",
      "\n"
     ]
    }
   ],
   "source": [
    "plot_confusion_matrix(tree5,X_test_sc,y_test)\n",
    "plt.title('Tree5 SMOTE=1 Depth=4 Test Set Classification Metircs')\n",
    "plt.show()\n",
    "print(classification_report(y_test,tree5.predict(X_test_sc)))"
   ]
  },
  {
   "cell_type": "code",
   "execution_count": 95,
   "metadata": {},
   "outputs": [
    {
     "name": "stdout",
     "output_type": "stream",
     "text": [
      "Tree5 Model Feature Importances\n",
      "----------------------\n",
      "loan_amount 0.004363440314210003\n",
      "term 0.0\n",
      "property_value 0.0\n",
      "income 0.17075899829925045\n",
      "Credit_Score 0.0\n",
      "LTV 0.021575670478439078\n",
      "dtir1 0.4842881679862326\n",
      "x0_nob/c 0.02422436724617863\n",
      "x1_not_neg 0.1691048362426608\n",
      "x2_not_lpsm 0.12568451943302855\n"
     ]
    }
   ],
   "source": [
    "tree5.feature_importances_\n",
    "print('Tree5 Model Feature Importances')\n",
    "print('----------------------')\n",
    "for index in range(0,10):\n",
    "    print(X_train.columns[index],tree5.feature_importances_[index])"
   ]
  },
  {
   "cell_type": "code",
   "execution_count": 96,
   "metadata": {},
   "outputs": [
    {
     "data": {
      "image/png": "[encoded data removed]",
      "text/plain": [
       "<Figure size 1440x1440 with 1 Axes>"
      ]
     },
     "metadata": {
      "needs_background": "light"
     },
     "output_type": "display_data"
    }
   ],
   "source": [
    "f,ax=plt.subplots(figsize=(20,20))\n",
    "plot_tree(tree5,ax=ax)\n",
    "plt.show()"
   ]
  },
  {
   "cell_type": "code",
   "execution_count": null,
   "metadata": {},
   "outputs": [],
   "source": []
  }
 ],
 "metadata": {
  "kernelspec": {
   "display_name": "Python (learn-env)",
   "language": "python",
   "name": "learn-env"
  },
  "language_info": {
   "codemirror_mode": {
    "name": "ipython",
    "version": 3
   },
   "file_extension": ".py",
   "mimetype": "text/x-python",
   "name": "python",
   "nbconvert_exporter": "python",
   "pygments_lexer": "ipython3",
   "version": "3.8.5"
  }
 },
 "nbformat": 4,
 "nbformat_minor": 4
}
