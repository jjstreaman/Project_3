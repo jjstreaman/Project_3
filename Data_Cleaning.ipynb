{
 "cells": [
  {
   "cell_type": "code",
   "execution_count": 1,
   "metadata": {},
   "outputs": [
    {
     "name": "stderr",
     "output_type": "stream",
     "text": [
      "C:\\Users\\sunny\\anaconda3\\envs\\learn-env\\lib\\site-packages\\statsmodels\\tsa\\base\\tsa_model.py:7: FutureWarning: pandas.Int64Index is deprecated and will be removed from pandas in a future version. Use pandas.Index with the appropriate dtype instead.\n",
      "  from pandas import (to_datetime, Int64Index, DatetimeIndex, Period,\n",
      "C:\\Users\\sunny\\anaconda3\\envs\\learn-env\\lib\\site-packages\\statsmodels\\tsa\\base\\tsa_model.py:7: FutureWarning: pandas.Float64Index is deprecated and will be removed from pandas in a future version. Use pandas.Index with the appropriate dtype instead.\n",
      "  from pandas import (to_datetime, Int64Index, DatetimeIndex, Period,\n"
     ]
    }
   ],
   "source": [
    "# imports\n",
    "import itertools\n",
    "import numpy as np\n",
    "import pandas as pd \n",
    "from numbers import Number\n",
    "from scipy import stats\n",
    "import matplotlib.pyplot as plt\n",
    "import matplotlib\n",
    "import seaborn as sns\n",
    "import warnings\n",
    "import statsmodels.api as sm\n",
    "\n",
    "from sklearn.preprocessing import StandardScaler\n",
    "from sklearn.linear_model import LogisticRegression\n",
    "from sklearn.tree import DecisionTreeClassifier, plot_tree\n",
    "from sklearn.model_selection import train_test_split\n",
    "from sklearn.metrics import accuracy_score, recall_score, precision_score, f1_score\n",
    "from sklearn.metrics import plot_confusion_matrix\n",
    "from sklearn.metrics import roc_auc_score, plot_roc_curve\n",
    "\n",
    "warnings.filterwarnings('ignore')"
   ]
  },
  {
   "cell_type": "code",
   "execution_count": 2,
   "metadata": {},
   "outputs": [
    {
     "name": "stdout",
     "output_type": "stream",
     "text": [
      "<class 'pandas.core.frame.DataFrame'>\n",
      "RangeIndex: 148670 entries, 0 to 148669\n",
      "Data columns (total 34 columns):\n",
      " #   Column                     Non-Null Count   Dtype  \n",
      "---  ------                     --------------   -----  \n",
      " 0   ID                         148670 non-null  int64  \n",
      " 1   year                       148670 non-null  int64  \n",
      " 2   loan_limit                 145326 non-null  object \n",
      " 3   Gender                     148670 non-null  object \n",
      " 4   approv_in_adv              147762 non-null  object \n",
      " 5   loan_type                  148670 non-null  object \n",
      " 6   loan_purpose               148536 non-null  object \n",
      " 7   Credit_Worthiness          148670 non-null  object \n",
      " 8   open_credit                148670 non-null  object \n",
      " 9   business_or_commercial     148670 non-null  object \n",
      " 10  loan_amount                148670 non-null  int64  \n",
      " 11  rate_of_interest           112231 non-null  float64\n",
      " 12  Interest_rate_spread       112031 non-null  float64\n",
      " 13  Upfront_charges            109028 non-null  float64\n",
      " 14  term                       148629 non-null  float64\n",
      " 15  Neg_ammortization          148549 non-null  object \n",
      " 16  interest_only              148670 non-null  object \n",
      " 17  lump_sum_payment           148670 non-null  object \n",
      " 18  property_value             133572 non-null  float64\n",
      " 19  construction_type          148670 non-null  object \n",
      " 20  occupancy_type             148670 non-null  object \n",
      " 21  Secured_by                 148670 non-null  object \n",
      " 22  total_units                148670 non-null  object \n",
      " 23  income                     139520 non-null  float64\n",
      " 24  credit_type                148670 non-null  object \n",
      " 25  Credit_Score               148670 non-null  int64  \n",
      " 26  co-applicant_credit_type   148670 non-null  object \n",
      " 27  age                        148470 non-null  object \n",
      " 28  submission_of_application  148470 non-null  object \n",
      " 29  LTV                        133572 non-null  float64\n",
      " 30  Region                     148670 non-null  object \n",
      " 31  Security_Type              148670 non-null  object \n",
      " 32  Status                     148670 non-null  int64  \n",
      " 33  dtir1                      124549 non-null  float64\n",
      "dtypes: float64(8), int64(5), object(21)\n",
      "memory usage: 38.6+ MB\n"
     ]
    }
   ],
   "source": [
    "df=pd.read_csv('data/Loan_Default.csv')\n",
    "df.info()"
   ]
  },
  {
   "cell_type": "code",
   "execution_count": 3,
   "metadata": {},
   "outputs": [],
   "source": [
    "df_LTV=df[df['LTV'].notna()]"
   ]
  },
  {
   "cell_type": "code",
   "execution_count": 4,
   "metadata": {},
   "outputs": [],
   "source": [
    "df_test0=df_LTV[df_LTV['Status']==0]\n",
    "df_test1=df_LTV[df_LTV['Status']==1]"
   ]
  },
  {
   "cell_type": "code",
   "execution_count": 5,
   "metadata": {},
   "outputs": [
    {
     "data": {
      "text/html": [
       "<div>\n",
       "<style scoped>\n",
       "    .dataframe tbody tr th:only-of-type {\n",
       "        vertical-align: middle;\n",
       "    }\n",
       "\n",
       "    .dataframe tbody tr th {\n",
       "        vertical-align: top;\n",
       "    }\n",
       "\n",
       "    .dataframe thead th {\n",
       "        text-align: right;\n",
       "    }\n",
       "</style>\n",
       "<table border=\"1\" class=\"dataframe\">\n",
       "  <thead>\n",
       "    <tr style=\"text-align: right;\">\n",
       "      <th></th>\n",
       "      <th>ID</th>\n",
       "      <th>year</th>\n",
       "      <th>loan_amount</th>\n",
       "      <th>rate_of_interest</th>\n",
       "      <th>Interest_rate_spread</th>\n",
       "      <th>Upfront_charges</th>\n",
       "      <th>term</th>\n",
       "      <th>property_value</th>\n",
       "      <th>income</th>\n",
       "      <th>Credit_Score</th>\n",
       "      <th>LTV</th>\n",
       "      <th>Status</th>\n",
       "      <th>dtir1</th>\n",
       "    </tr>\n",
       "  </thead>\n",
       "  <tbody>\n",
       "    <tr>\n",
       "      <th>count</th>\n",
       "      <td>112029.000000</td>\n",
       "      <td>112029.0</td>\n",
       "      <td>1.120290e+05</td>\n",
       "      <td>112029.000000</td>\n",
       "      <td>112029.000000</td>\n",
       "      <td>108875.000000</td>\n",
       "      <td>112003.000000</td>\n",
       "      <td>1.120290e+05</td>\n",
       "      <td>104118.000000</td>\n",
       "      <td>112029.000000</td>\n",
       "      <td>112029.000000</td>\n",
       "      <td>112029.0</td>\n",
       "      <td>104218.000000</td>\n",
       "    </tr>\n",
       "    <tr>\n",
       "      <th>mean</th>\n",
       "      <td>99181.618081</td>\n",
       "      <td>2019.0</td>\n",
       "      <td>3.349912e+05</td>\n",
       "      <td>4.044926</td>\n",
       "      <td>0.441658</td>\n",
       "      <td>3227.328554</td>\n",
       "      <td>335.145755</td>\n",
       "      <td>5.056061e+05</td>\n",
       "      <td>7204.047139</td>\n",
       "      <td>699.523847</td>\n",
       "      <td>72.064757</td>\n",
       "      <td>0.0</td>\n",
       "      <td>37.369380</td>\n",
       "    </tr>\n",
       "    <tr>\n",
       "      <th>std</th>\n",
       "      <td>42924.705658</td>\n",
       "      <td>0.0</td>\n",
       "      <td>1.749167e+05</td>\n",
       "      <td>0.561359</td>\n",
       "      <td>0.513047</td>\n",
       "      <td>3251.673989</td>\n",
       "      <td>58.823301</td>\n",
       "      <td>3.427845e+05</td>\n",
       "      <td>6201.390985</td>\n",
       "      <td>115.674824</td>\n",
       "      <td>41.768899</td>\n",
       "      <td>0.0</td>\n",
       "      <td>10.027206</td>\n",
       "    </tr>\n",
       "    <tr>\n",
       "      <th>min</th>\n",
       "      <td>24892.000000</td>\n",
       "      <td>2019.0</td>\n",
       "      <td>2.650000e+04</td>\n",
       "      <td>0.000000</td>\n",
       "      <td>-3.638000</td>\n",
       "      <td>0.000000</td>\n",
       "      <td>96.000000</td>\n",
       "      <td>8.000000e+03</td>\n",
       "      <td>0.000000</td>\n",
       "      <td>500.000000</td>\n",
       "      <td>2.072943</td>\n",
       "      <td>0.0</td>\n",
       "      <td>5.000000</td>\n",
       "    </tr>\n",
       "    <tr>\n",
       "      <th>25%</th>\n",
       "      <td>61964.000000</td>\n",
       "      <td>2019.0</td>\n",
       "      <td>2.065000e+05</td>\n",
       "      <td>3.625000</td>\n",
       "      <td>0.076000</td>\n",
       "      <td>584.390000</td>\n",
       "      <td>360.000000</td>\n",
       "      <td>2.880000e+05</td>\n",
       "      <td>4020.000000</td>\n",
       "      <td>599.000000</td>\n",
       "      <td>59.970817</td>\n",
       "      <td>0.0</td>\n",
       "      <td>31.000000</td>\n",
       "    </tr>\n",
       "    <tr>\n",
       "      <th>50%</th>\n",
       "      <td>99221.000000</td>\n",
       "      <td>2019.0</td>\n",
       "      <td>3.065000e+05</td>\n",
       "      <td>3.990000</td>\n",
       "      <td>0.390400</td>\n",
       "      <td>2600.000000</td>\n",
       "      <td>360.000000</td>\n",
       "      <td>4.280000e+05</td>\n",
       "      <td>6000.000000</td>\n",
       "      <td>699.000000</td>\n",
       "      <td>74.504405</td>\n",
       "      <td>0.0</td>\n",
       "      <td>38.000000</td>\n",
       "    </tr>\n",
       "    <tr>\n",
       "      <th>75%</th>\n",
       "      <td>136304.000000</td>\n",
       "      <td>2019.0</td>\n",
       "      <td>4.465000e+05</td>\n",
       "      <td>4.375000</td>\n",
       "      <td>0.775400</td>\n",
       "      <td>4815.315000</td>\n",
       "      <td>360.000000</td>\n",
       "      <td>6.380000e+05</td>\n",
       "      <td>8760.000000</td>\n",
       "      <td>800.000000</td>\n",
       "      <td>85.201149</td>\n",
       "      <td>0.0</td>\n",
       "      <td>44.000000</td>\n",
       "    </tr>\n",
       "    <tr>\n",
       "      <th>max</th>\n",
       "      <td>173559.000000</td>\n",
       "      <td>2019.0</td>\n",
       "      <td>3.006500e+06</td>\n",
       "      <td>8.000000</td>\n",
       "      <td>3.357000</td>\n",
       "      <td>60000.000000</td>\n",
       "      <td>360.000000</td>\n",
       "      <td>9.268000e+06</td>\n",
       "      <td>377220.000000</td>\n",
       "      <td>900.000000</td>\n",
       "      <td>7831.250000</td>\n",
       "      <td>0.0</td>\n",
       "      <td>61.000000</td>\n",
       "    </tr>\n",
       "  </tbody>\n",
       "</table>\n",
       "</div>"
      ],
      "text/plain": [
       "                  ID      year   loan_amount  rate_of_interest  \\\n",
       "count  112029.000000  112029.0  1.120290e+05     112029.000000   \n",
       "mean    99181.618081    2019.0  3.349912e+05          4.044926   \n",
       "std     42924.705658       0.0  1.749167e+05          0.561359   \n",
       "min     24892.000000    2019.0  2.650000e+04          0.000000   \n",
       "25%     61964.000000    2019.0  2.065000e+05          3.625000   \n",
       "50%     99221.000000    2019.0  3.065000e+05          3.990000   \n",
       "75%    136304.000000    2019.0  4.465000e+05          4.375000   \n",
       "max    173559.000000    2019.0  3.006500e+06          8.000000   \n",
       "\n",
       "       Interest_rate_spread  Upfront_charges           term  property_value  \\\n",
       "count         112029.000000    108875.000000  112003.000000    1.120290e+05   \n",
       "mean               0.441658      3227.328554     335.145755    5.056061e+05   \n",
       "std                0.513047      3251.673989      58.823301    3.427845e+05   \n",
       "min               -3.638000         0.000000      96.000000    8.000000e+03   \n",
       "25%                0.076000       584.390000     360.000000    2.880000e+05   \n",
       "50%                0.390400      2600.000000     360.000000    4.280000e+05   \n",
       "75%                0.775400      4815.315000     360.000000    6.380000e+05   \n",
       "max                3.357000     60000.000000     360.000000    9.268000e+06   \n",
       "\n",
       "              income   Credit_Score            LTV    Status          dtir1  \n",
       "count  104118.000000  112029.000000  112029.000000  112029.0  104218.000000  \n",
       "mean     7204.047139     699.523847      72.064757       0.0      37.369380  \n",
       "std      6201.390985     115.674824      41.768899       0.0      10.027206  \n",
       "min         0.000000     500.000000       2.072943       0.0       5.000000  \n",
       "25%      4020.000000     599.000000      59.970817       0.0      31.000000  \n",
       "50%      6000.000000     699.000000      74.504405       0.0      38.000000  \n",
       "75%      8760.000000     800.000000      85.201149       0.0      44.000000  \n",
       "max    377220.000000     900.000000    7831.250000       0.0      61.000000  "
      ]
     },
     "execution_count": 5,
     "metadata": {},
     "output_type": "execute_result"
    }
   ],
   "source": [
    "df_test0.describe()"
   ]
  },
  {
   "cell_type": "code",
   "execution_count": 6,
   "metadata": {},
   "outputs": [
    {
     "data": {
      "text/html": [
       "<div>\n",
       "<style scoped>\n",
       "    .dataframe tbody tr th:only-of-type {\n",
       "        vertical-align: middle;\n",
       "    }\n",
       "\n",
       "    .dataframe tbody tr th {\n",
       "        vertical-align: top;\n",
       "    }\n",
       "\n",
       "    .dataframe thead th {\n",
       "        text-align: right;\n",
       "    }\n",
       "</style>\n",
       "<table border=\"1\" class=\"dataframe\">\n",
       "  <thead>\n",
       "    <tr style=\"text-align: right;\">\n",
       "      <th></th>\n",
       "      <th>ID</th>\n",
       "      <th>year</th>\n",
       "      <th>loan_amount</th>\n",
       "      <th>rate_of_interest</th>\n",
       "      <th>Interest_rate_spread</th>\n",
       "      <th>Upfront_charges</th>\n",
       "      <th>term</th>\n",
       "      <th>property_value</th>\n",
       "      <th>income</th>\n",
       "      <th>Credit_Score</th>\n",
       "      <th>LTV</th>\n",
       "      <th>Status</th>\n",
       "      <th>dtir1</th>\n",
       "    </tr>\n",
       "  </thead>\n",
       "  <tbody>\n",
       "    <tr>\n",
       "      <th>count</th>\n",
       "      <td>21543.000000</td>\n",
       "      <td>21543.0</td>\n",
       "      <td>2.154300e+04</td>\n",
       "      <td>200.000000</td>\n",
       "      <td>0.0</td>\n",
       "      <td>153.000000</td>\n",
       "      <td>21540.000000</td>\n",
       "      <td>2.154300e+04</td>\n",
       "      <td>20319.000000</td>\n",
       "      <td>21543.000000</td>\n",
       "      <td>21543.000000</td>\n",
       "      <td>21543.0</td>\n",
       "      <td>20329.000000</td>\n",
       "    </tr>\n",
       "    <tr>\n",
       "      <th>mean</th>\n",
       "      <td>99317.005710</td>\n",
       "      <td>2019.0</td>\n",
       "      <td>3.118326e+05</td>\n",
       "      <td>4.350500</td>\n",
       "      <td>NaN</td>\n",
       "      <td>1565.237974</td>\n",
       "      <td>335.797957</td>\n",
       "      <td>4.577860e+05</td>\n",
       "      <td>6035.352133</td>\n",
       "      <td>700.713410</td>\n",
       "      <td>76.291468</td>\n",
       "      <td>1.0</td>\n",
       "      <td>39.597324</td>\n",
       "    </tr>\n",
       "    <tr>\n",
       "      <th>std</th>\n",
       "      <td>42738.697717</td>\n",
       "      <td>0.0</td>\n",
       "      <td>2.127446e+05</td>\n",
       "      <td>0.495546</td>\n",
       "      <td>NaN</td>\n",
       "      <td>2299.820513</td>\n",
       "      <td>56.200810</td>\n",
       "      <td>4.362550e+05</td>\n",
       "      <td>7824.958132</td>\n",
       "      <td>116.926926</td>\n",
       "      <td>28.580217</td>\n",
       "      <td>0.0</td>\n",
       "      <td>12.716828</td>\n",
       "    </tr>\n",
       "    <tr>\n",
       "      <th>min</th>\n",
       "      <td>24890.000000</td>\n",
       "      <td>2019.0</td>\n",
       "      <td>1.650000e+04</td>\n",
       "      <td>3.125000</td>\n",
       "      <td>NaN</td>\n",
       "      <td>0.000000</td>\n",
       "      <td>96.000000</td>\n",
       "      <td>8.000000e+03</td>\n",
       "      <td>0.000000</td>\n",
       "      <td>500.000000</td>\n",
       "      <td>0.967478</td>\n",
       "      <td>1.0</td>\n",
       "      <td>5.000000</td>\n",
       "    </tr>\n",
       "    <tr>\n",
       "      <th>25%</th>\n",
       "      <td>62631.500000</td>\n",
       "      <td>2019.0</td>\n",
       "      <td>1.665000e+05</td>\n",
       "      <td>3.990000</td>\n",
       "      <td>NaN</td>\n",
       "      <td>0.000000</td>\n",
       "      <td>360.000000</td>\n",
       "      <td>2.280000e+05</td>\n",
       "      <td>2880.000000</td>\n",
       "      <td>599.000000</td>\n",
       "      <td>64.273172</td>\n",
       "      <td>1.0</td>\n",
       "      <td>32.000000</td>\n",
       "    </tr>\n",
       "    <tr>\n",
       "      <th>50%</th>\n",
       "      <td>98758.000000</td>\n",
       "      <td>2019.0</td>\n",
       "      <td>2.665000e+05</td>\n",
       "      <td>4.312500</td>\n",
       "      <td>NaN</td>\n",
       "      <td>687.850000</td>\n",
       "      <td>360.000000</td>\n",
       "      <td>3.480000e+05</td>\n",
       "      <td>4620.000000</td>\n",
       "      <td>700.000000</td>\n",
       "      <td>79.362416</td>\n",
       "      <td>1.0</td>\n",
       "      <td>42.000000</td>\n",
       "    </tr>\n",
       "    <tr>\n",
       "      <th>75%</th>\n",
       "      <td>136346.500000</td>\n",
       "      <td>2019.0</td>\n",
       "      <td>4.065000e+05</td>\n",
       "      <td>4.750000</td>\n",
       "      <td>NaN</td>\n",
       "      <td>2310.750000</td>\n",
       "      <td>360.000000</td>\n",
       "      <td>5.580000e+05</td>\n",
       "      <td>7260.000000</td>\n",
       "      <td>803.000000</td>\n",
       "      <td>90.948276</td>\n",
       "      <td>1.0</td>\n",
       "      <td>49.000000</td>\n",
       "    </tr>\n",
       "    <tr>\n",
       "      <th>max</th>\n",
       "      <td>173551.000000</td>\n",
       "      <td>2019.0</td>\n",
       "      <td>3.576500e+06</td>\n",
       "      <td>5.500000</td>\n",
       "      <td>NaN</td>\n",
       "      <td>15584.000000</td>\n",
       "      <td>360.000000</td>\n",
       "      <td>1.650800e+07</td>\n",
       "      <td>578580.000000</td>\n",
       "      <td>900.000000</td>\n",
       "      <td>2956.250000</td>\n",
       "      <td>1.0</td>\n",
       "      <td>61.000000</td>\n",
       "    </tr>\n",
       "  </tbody>\n",
       "</table>\n",
       "</div>"
      ],
      "text/plain": [
       "                  ID     year   loan_amount  rate_of_interest  \\\n",
       "count   21543.000000  21543.0  2.154300e+04        200.000000   \n",
       "mean    99317.005710   2019.0  3.118326e+05          4.350500   \n",
       "std     42738.697717      0.0  2.127446e+05          0.495546   \n",
       "min     24890.000000   2019.0  1.650000e+04          3.125000   \n",
       "25%     62631.500000   2019.0  1.665000e+05          3.990000   \n",
       "50%     98758.000000   2019.0  2.665000e+05          4.312500   \n",
       "75%    136346.500000   2019.0  4.065000e+05          4.750000   \n",
       "max    173551.000000   2019.0  3.576500e+06          5.500000   \n",
       "\n",
       "       Interest_rate_spread  Upfront_charges          term  property_value  \\\n",
       "count                   0.0       153.000000  21540.000000    2.154300e+04   \n",
       "mean                    NaN      1565.237974    335.797957    4.577860e+05   \n",
       "std                     NaN      2299.820513     56.200810    4.362550e+05   \n",
       "min                     NaN         0.000000     96.000000    8.000000e+03   \n",
       "25%                     NaN         0.000000    360.000000    2.280000e+05   \n",
       "50%                     NaN       687.850000    360.000000    3.480000e+05   \n",
       "75%                     NaN      2310.750000    360.000000    5.580000e+05   \n",
       "max                     NaN     15584.000000    360.000000    1.650800e+07   \n",
       "\n",
       "              income  Credit_Score           LTV   Status         dtir1  \n",
       "count   20319.000000  21543.000000  21543.000000  21543.0  20329.000000  \n",
       "mean     6035.352133    700.713410     76.291468      1.0     39.597324  \n",
       "std      7824.958132    116.926926     28.580217      0.0     12.716828  \n",
       "min         0.000000    500.000000      0.967478      1.0      5.000000  \n",
       "25%      2880.000000    599.000000     64.273172      1.0     32.000000  \n",
       "50%      4620.000000    700.000000     79.362416      1.0     42.000000  \n",
       "75%      7260.000000    803.000000     90.948276      1.0     49.000000  \n",
       "max    578580.000000    900.000000   2956.250000      1.0     61.000000  "
      ]
     },
     "execution_count": 6,
     "metadata": {},
     "output_type": "execute_result"
    }
   ],
   "source": [
    "df_test1.describe()"
   ]
  },
  {
   "cell_type": "markdown",
   "metadata": {},
   "source": [
    "Based on the data availibility characteristic, rate of interest, interest rate spread and upfront charges have mostly null values in the default dataset. Imputing it with single value 0, while it may make sense from our understanding of default dataset specifically for interest rate spread and upfront charges, it would make these feature spaces almost \"perfect classifiers\" which is unrealistic when applying such model with real world data. Imputing it with the rest of the dataset would make it a almost \"useless\" feature as the imputation is predominantly based on no default dataset. Therefore we are dropping these feature later-on in our baseline model  "
   ]
  },
  {
   "cell_type": "code",
   "execution_count": 30,
   "metadata": {},
   "outputs": [
    {
     "name": "stdout",
     "output_type": "stream",
     "text": [
      "<class 'pandas.core.frame.DataFrame'>\n",
      "Int64Index: 123545 entries, 0 to 148669\n",
      "Data columns (total 34 columns):\n",
      " #   Column                     Non-Null Count   Dtype  \n",
      "---  ------                     --------------   -----  \n",
      " 0   ID                         123545 non-null  int64  \n",
      " 1   year                       123545 non-null  int64  \n",
      " 2   loan_limit                 120664 non-null  object \n",
      " 3   Gender                     123545 non-null  object \n",
      " 4   approv_in_adv              123545 non-null  object \n",
      " 5   loan_type                  123545 non-null  object \n",
      " 6   loan_purpose               123436 non-null  object \n",
      " 7   Credit_Worthiness          123545 non-null  object \n",
      " 8   open_credit                123545 non-null  object \n",
      " 9   business_or_commercial     123545 non-null  object \n",
      " 10  loan_amount                123545 non-null  int64  \n",
      " 11  rate_of_interest           103392 non-null  float64\n",
      " 12  Interest_rate_spread       103392 non-null  float64\n",
      " 13  Upfront_charges            100625 non-null  float64\n",
      " 14  term                       123516 non-null  float64\n",
      " 15  Neg_ammortization          123545 non-null  object \n",
      " 16  interest_only              123545 non-null  object \n",
      " 17  lump_sum_payment           123545 non-null  object \n",
      " 18  property_value             123545 non-null  float64\n",
      " 19  construction_type          123545 non-null  object \n",
      " 20  occupancy_type             123545 non-null  object \n",
      " 21  Secured_by                 123545 non-null  object \n",
      " 22  total_units                123545 non-null  object \n",
      " 23  income                     123545 non-null  float64\n",
      " 24  credit_type                123545 non-null  object \n",
      " 25  Credit_Score               123545 non-null  int64  \n",
      " 26  co-applicant_credit_type   123545 non-null  object \n",
      " 27  age                        123545 non-null  object \n",
      " 28  submission_of_application  123545 non-null  object \n",
      " 29  LTV                        123545 non-null  float64\n",
      " 30  Region                     123545 non-null  object \n",
      " 31  Security_Type              123545 non-null  object \n",
      " 32  Status                     123545 non-null  int64  \n",
      " 33  dtir1                      123545 non-null  float64\n",
      "dtypes: float64(8), int64(5), object(21)\n",
      "memory usage: 33.0+ MB\n"
     ]
    }
   ],
   "source": [
    "df_negamort=df_LTV[df['Neg_ammortization'].notna()]\n",
    "df_income=df_negamort[df_negamort['income'].notna()]\n",
    "df_preapprove=df_income[df_income['approv_in_adv'].notna()]\n",
    "df_preapprove.info()"
   ]
  },
  {
   "cell_type": "code",
   "execution_count": 31,
   "metadata": {},
   "outputs": [
    {
     "data": {
      "text/plain": [
       "<AxesSubplot:xlabel='loan_limit', ylabel='Count'>"
      ]
     },
     "execution_count": 31,
     "metadata": {},
     "output_type": "execute_result"
    },
    {
     "data": {
      "image/png": "[encoded data removed]",
      "text/plain": [
       "<Figure size 360x720 with 1 Axes>"
      ]
     },
     "metadata": {
      "needs_background": "light"
     },
     "output_type": "display_data"
    }
   ],
   "source": [
    "df_test_loan_limit=df[df['loan_limit'].notna()]\n",
    "df_test_loan_limit['Status']=df_test_loan_limit['Status'].astype('category')\n",
    "f,ax=plt.subplots(figsize=(5,10))\n",
    "sns.histplot(ax=ax,data=df_test_loan_limit,x='loan_limit',hue='Status')"
   ]
  },
  {
   "cell_type": "code",
   "execution_count": 9,
   "metadata": {},
   "outputs": [
    {
     "data": {
      "text/plain": [
       "<AxesSubplot:xlabel='loan_purpose', ylabel='Count'>"
      ]
     },
     "execution_count": 9,
     "metadata": {},
     "output_type": "execute_result"
    },
    {
     "data": {
      "image/png": "[encoded data removed]",
      "text/plain": [
       "<Figure size 360x720 with 1 Axes>"
      ]
     },
     "metadata": {
      "needs_background": "light"
     },
     "output_type": "display_data"
    }
   ],
   "source": [
    "df_test_loan_purpose=df[df['loan_purpose'].notna()]\n",
    "df_test_loan_purpose['Status']=df_test_loan_purpose['Status'].astype('category')\n",
    "f,ax=plt.subplots(figsize=(5,10))\n",
    "sns.histplot(ax=ax,data=df_test_loan_purpose,x='loan_purpose',hue='Status')"
   ]
  },
  {
   "cell_type": "code",
   "execution_count": 32,
   "metadata": {
    "scrolled": true
   },
   "outputs": [
    {
     "name": "stdout",
     "output_type": "stream",
     "text": [
      "<class 'pandas.core.frame.DataFrame'>\n",
      "Int64Index: 120526 entries, 0 to 148669\n",
      "Data columns (total 34 columns):\n",
      " #   Column                     Non-Null Count   Dtype  \n",
      "---  ------                     --------------   -----  \n",
      " 0   ID                         120526 non-null  int64  \n",
      " 1   year                       120526 non-null  int64  \n",
      " 2   loan_limit                 120526 non-null  object \n",
      " 3   Gender                     120526 non-null  object \n",
      " 4   approv_in_adv              120526 non-null  object \n",
      " 5   loan_type                  120526 non-null  object \n",
      " 6   loan_purpose               120526 non-null  object \n",
      " 7   Credit_Worthiness          120526 non-null  object \n",
      " 8   open_credit                120526 non-null  object \n",
      " 9   business_or_commercial     120526 non-null  object \n",
      " 10  loan_amount                120526 non-null  int64  \n",
      " 11  rate_of_interest           100879 non-null  float64\n",
      " 12  Interest_rate_spread       100879 non-null  float64\n",
      " 13  Upfront_charges            98187 non-null   float64\n",
      " 14  term                       120526 non-null  float64\n",
      " 15  Neg_ammortization          120526 non-null  object \n",
      " 16  interest_only              120526 non-null  object \n",
      " 17  lump_sum_payment           120526 non-null  object \n",
      " 18  property_value             120526 non-null  float64\n",
      " 19  construction_type          120526 non-null  object \n",
      " 20  occupancy_type             120526 non-null  object \n",
      " 21  Secured_by                 120526 non-null  object \n",
      " 22  total_units                120526 non-null  object \n",
      " 23  income                     120526 non-null  float64\n",
      " 24  credit_type                120526 non-null  object \n",
      " 25  Credit_Score               120526 non-null  int64  \n",
      " 26  co-applicant_credit_type   120526 non-null  object \n",
      " 27  age                        120526 non-null  object \n",
      " 28  submission_of_application  120526 non-null  object \n",
      " 29  LTV                        120526 non-null  float64\n",
      " 30  Region                     120526 non-null  object \n",
      " 31  Security_Type              120526 non-null  object \n",
      " 32  Status                     120526 non-null  int64  \n",
      " 33  dtir1                      120526 non-null  float64\n",
      "dtypes: float64(8), int64(5), object(21)\n",
      "memory usage: 32.2+ MB\n"
     ]
    }
   ],
   "source": [
    "df_limit=df_preapprove[df_preapprove['loan_limit'].notna()]\n",
    "df_term=df_limit[df_limit['term'].notna()]\n",
    "df_cleaned=df_term[df_term['loan_purpose'].notna()]\n",
    "df_cleaned.info()"
   ]
  },
  {
   "cell_type": "code",
   "execution_count": 33,
   "metadata": {},
   "outputs": [
    {
     "data": {
      "text/plain": [
       "0    100879\n",
       "1     19647\n",
       "Name: Status, dtype: int64"
      ]
     },
     "execution_count": 33,
     "metadata": {},
     "output_type": "execute_result"
    }
   ],
   "source": [
    "df_cleaned['Status'].value_counts()"
   ]
  },
  {
   "cell_type": "code",
   "execution_count": 34,
   "metadata": {},
   "outputs": [
    {
     "data": {
      "text/plain": [
       "sb    120496\n",
       "mh        30\n",
       "Name: construction_type, dtype: int64"
      ]
     },
     "execution_count": 34,
     "metadata": {},
     "output_type": "execute_result"
    }
   ],
   "source": [
    "df_cleaned['construction_type'].value_counts()"
   ]
  },
  {
   "cell_type": "code",
   "execution_count": 35,
   "metadata": {},
   "outputs": [
    {
     "data": {
      "text/plain": [
       "2019    120526\n",
       "Name: year, dtype: int64"
      ]
     },
     "execution_count": 35,
     "metadata": {},
     "output_type": "execute_result"
    }
   ],
   "source": [
    "df_cleaned['year'].value_counts()"
   ]
  },
  {
   "cell_type": "code",
   "execution_count": 36,
   "metadata": {},
   "outputs": [
    {
     "data": {
      "text/plain": [
       "pr    111519\n",
       "ir      6318\n",
       "sr      2689\n",
       "Name: occupancy_type, dtype: int64"
      ]
     },
     "execution_count": 36,
     "metadata": {},
     "output_type": "execute_result"
    }
   ],
   "source": [
    "df_cleaned['occupancy_type'].value_counts()"
   ]
  },
  {
   "cell_type": "code",
   "execution_count": 37,
   "metadata": {
    "scrolled": true
   },
   "outputs": [
    {
     "data": {
      "text/plain": [
       "not_lpsm    118461\n",
       "lpsm          2065\n",
       "Name: lump_sum_payment, dtype: int64"
      ]
     },
     "execution_count": 37,
     "metadata": {},
     "output_type": "execute_result"
    }
   ],
   "source": [
    "df_cleaned['lump_sum_payment'].value_counts()"
   ]
  },
  {
   "cell_type": "code",
   "execution_count": 38,
   "metadata": {},
   "outputs": [
    {
     "data": {
      "text/plain": [
       "not_int     114952\n",
       "int_only      5574\n",
       "Name: interest_only, dtype: int64"
      ]
     },
     "execution_count": 38,
     "metadata": {},
     "output_type": "execute_result"
    }
   ],
   "source": [
    "df_cleaned['interest_only'].value_counts()"
   ]
  },
  {
   "cell_type": "code",
   "execution_count": 39,
   "metadata": {},
   "outputs": [
    {
     "data": {
      "text/plain": [
       "type1    98871\n",
       "type2    14313\n",
       "type3     7342\n",
       "Name: loan_type, dtype: int64"
      ]
     },
     "execution_count": 39,
     "metadata": {},
     "output_type": "execute_result"
    }
   ],
   "source": [
    "df_cleaned['loan_type'].value_counts()"
   ]
  },
  {
   "cell_type": "code",
   "execution_count": 40,
   "metadata": {},
   "outputs": [
    {
     "data": {
      "text/plain": [
       "nob/c    106213\n",
       "b/c       14313\n",
       "Name: business_or_commercial, dtype: int64"
      ]
     },
     "execution_count": 40,
     "metadata": {},
     "output_type": "execute_result"
    }
   ],
   "source": [
    "df_cleaned['business_or_commercial'].value_counts()"
   ]
  },
  {
   "cell_type": "code",
   "execution_count": 41,
   "metadata": {},
   "outputs": [
    {
     "data": {
      "text/plain": [
       "home    120496\n",
       "land        30\n",
       "Name: Secured_by, dtype: int64"
      ]
     },
     "execution_count": 41,
     "metadata": {},
     "output_type": "execute_result"
    }
   ],
   "source": [
    "df_cleaned['Secured_by'].value_counts()"
   ]
  },
  {
   "cell_type": "code",
   "execution_count": 42,
   "metadata": {},
   "outputs": [
    {
     "data": {
      "text/plain": [
       "sb    120496\n",
       "mh        30\n",
       "Name: construction_type, dtype: int64"
      ]
     },
     "execution_count": 42,
     "metadata": {},
     "output_type": "execute_result"
    }
   ],
   "source": [
    "df_cleaned['construction_type'].value_counts()"
   ]
  },
  {
   "cell_type": "code",
   "execution_count": 43,
   "metadata": {},
   "outputs": [
    {
     "data": {
      "text/plain": [
       "CIB    67862\n",
       "EXP    52664\n",
       "Name: co-applicant_credit_type, dtype: int64"
      ]
     },
     "execution_count": 43,
     "metadata": {},
     "output_type": "execute_result"
    }
   ],
   "source": [
    "df_cleaned['co-applicant_credit_type'].value_counts()"
   ]
  },
  {
   "cell_type": "code",
   "execution_count": 44,
   "metadata": {},
   "outputs": [
    {
     "data": {
      "text/plain": [
       "CIB     44541\n",
       "CRIF    40318\n",
       "EXP     35665\n",
       "EQUI        2\n",
       "Name: credit_type, dtype: int64"
      ]
     },
     "execution_count": 44,
     "metadata": {},
     "output_type": "execute_result"
    }
   ],
   "source": [
    "df_cleaned['credit_type'].value_counts()"
   ]
  },
  {
   "cell_type": "code",
   "execution_count": 45,
   "metadata": {},
   "outputs": [
    {
     "data": {
      "text/plain": [
       "to_inst     77283\n",
       "not_inst    43243\n",
       "Name: submission_of_application, dtype: int64"
      ]
     },
     "execution_count": 45,
     "metadata": {},
     "output_type": "execute_result"
    }
   ],
   "source": [
    "df_cleaned['submission_of_application'].value_counts()"
   ]
  },
  {
   "cell_type": "code",
   "execution_count": 46,
   "metadata": {},
   "outputs": [
    {
     "data": {
      "text/plain": [
       "direct      120496\n",
       "Indriect        30\n",
       "Name: Security_Type, dtype: int64"
      ]
     },
     "execution_count": 46,
     "metadata": {},
     "output_type": "execute_result"
    }
   ],
   "source": [
    "df_cleaned['Security_Type'].value_counts()"
   ]
  },
  {
   "cell_type": "code",
   "execution_count": 47,
   "metadata": {},
   "outputs": [],
   "source": [
    "columns_to_drop=(['ID','year','Secured_by','construction_type','credit_type','Security_Type','co-applicant_credit_type','Gender'])"
   ]
  },
  {
   "cell_type": "code",
   "execution_count": 48,
   "metadata": {
    "scrolled": true
   },
   "outputs": [],
   "source": [
    "df_cleaned.drop(columns=columns_to_drop,inplace=True)"
   ]
  },
  {
   "cell_type": "code",
   "execution_count": 49,
   "metadata": {},
   "outputs": [
    {
     "name": "stdout",
     "output_type": "stream",
     "text": [
      "<class 'pandas.core.frame.DataFrame'>\n",
      "Int64Index: 120526 entries, 0 to 148669\n",
      "Data columns (total 26 columns):\n",
      " #   Column                     Non-Null Count   Dtype  \n",
      "---  ------                     --------------   -----  \n",
      " 0   loan_limit                 120526 non-null  object \n",
      " 1   approv_in_adv              120526 non-null  object \n",
      " 2   loan_type                  120526 non-null  object \n",
      " 3   loan_purpose               120526 non-null  object \n",
      " 4   Credit_Worthiness          120526 non-null  object \n",
      " 5   open_credit                120526 non-null  object \n",
      " 6   business_or_commercial     120526 non-null  object \n",
      " 7   loan_amount                120526 non-null  int64  \n",
      " 8   rate_of_interest           100879 non-null  float64\n",
      " 9   Interest_rate_spread       100879 non-null  float64\n",
      " 10  Upfront_charges            98187 non-null   float64\n",
      " 11  term                       120526 non-null  float64\n",
      " 12  Neg_ammortization          120526 non-null  object \n",
      " 13  interest_only              120526 non-null  object \n",
      " 14  lump_sum_payment           120526 non-null  object \n",
      " 15  property_value             120526 non-null  float64\n",
      " 16  occupancy_type             120526 non-null  object \n",
      " 17  total_units                120526 non-null  object \n",
      " 18  income                     120526 non-null  float64\n",
      " 19  Credit_Score               120526 non-null  int64  \n",
      " 20  age                        120526 non-null  object \n",
      " 21  submission_of_application  120526 non-null  object \n",
      " 22  LTV                        120526 non-null  float64\n",
      " 23  Region                     120526 non-null  object \n",
      " 24  Status                     120526 non-null  int64  \n",
      " 25  dtir1                      120526 non-null  float64\n",
      "dtypes: float64(8), int64(3), object(15)\n",
      "memory usage: 24.8+ MB\n"
     ]
    }
   ],
   "source": [
    "df_cleaned.info()"
   ]
  },
  {
   "cell_type": "code",
   "execution_count": 51,
   "metadata": {},
   "outputs": [],
   "source": [
    "df_cleaned.to_csv('data/cleaned.csv')"
   ]
  },
  {
   "cell_type": "code",
   "execution_count": null,
   "metadata": {},
   "outputs": [],
   "source": []
  }
 ],
 "metadata": {
  "kernelspec": {
   "display_name": "Python (learn-env)",
   "language": "python",
   "name": "learn-env"
  },
  "language_info": {
   "codemirror_mode": {
    "name": "ipython",
    "version": 3
   },
   "file_extension": ".py",
   "mimetype": "text/x-python",
   "name": "python",
   "nbconvert_exporter": "python",
   "pygments_lexer": "ipython3",
   "version": "3.8.5"
  }
 },
 "nbformat": 4,
 "nbformat_minor": 4
}
